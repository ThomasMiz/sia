{
 "cells": [
  {
   "cell_type": "code",
   "execution_count": null,
   "id": "d6b49c98",
   "metadata": {},
   "outputs": [],
   "source": [
    "import numpy as np\n",
    "from src.perceptron import Perceptron\n",
    "import src.theta_funcs as theta_funcs\n",
    "from src.trainer import TrainerConfig, train_perceptron, evaluate_perceptron\n",
    "import src.error_funcs as error_funcs\n",
    "from src.readers import read_csv"
   ]
  },
  {
   "cell_type": "code",
   "execution_count": null,
   "id": "f8232a11",
   "metadata": {},
   "outputs": [],
   "source": [
    "dataset, dataset_outputs = read_csv('TP3-ej2-conjunto.csv')\n",
    "\n",
    "config = TrainerConfig.from_file(\"ejercicio2-config.json\")"
   ]
  },
  {
   "cell_type": "code",
   "execution_count": null,
   "id": "b3a857b6",
   "metadata": {},
   "outputs": [],
   "source": [
    "perceptron_lin = Perceptron(\n",
    "    initial_weights=np.random.random(len(dataset[0]) + 1) * 2 - 1,\n",
    "    theta_func=theta_funcs.lineal\n",
    ")\n",
    "\n",
    "print(f\"Initial weights for LINEAR perceptron: {perceptron_lin.w}\")\n",
    "\n",
    "error = evaluate_perceptron(\n",
    "    perceptron=perceptron_lin,\n",
    "    dataset=dataset,\n",
    "    dataset_outputs=dataset_outputs,\n",
    "    error_func=config.error_func,\n",
    "    print_output=True\n",
    ")\n",
    "\n",
    "print(f\"LINEAR perceptron initially has an error of {error} {'✅' if error<config.acceptable_error else '❌'}\")"
   ]
  },
  {
   "cell_type": "code",
   "execution_count": null,
   "id": "d07d3d0e",
   "metadata": {},
   "outputs": [],
   "source": [
    "result_lin = train_perceptron(\n",
    "    perceptron=perceptron_lin,\n",
    "    dataset=dataset,\n",
    "    dataset_outputs=dataset_outputs,\n",
    "    config=config\n",
    ")"
   ]
  },
  {
   "cell_type": "code",
   "execution_count": null,
   "id": "9e7865a1",
   "metadata": {},
   "outputs": [],
   "source": [
    "error = evaluate_perceptron(\n",
    "    perceptron=perceptron_lin,\n",
    "    dataset=dataset,\n",
    "    dataset_outputs=dataset_outputs,\n",
    "    error_func=config.error_func,\n",
    "    print_output=True\n",
    ")\n",
    "amount_ok = len(dataset) - error\n",
    "\n",
    "print(f\"LINEAR perceptron after training for {result_lin.epoch_num} epoch{'' if result_lin.epoch_num == 1 else 's'} has an error of {error} {'✅' if error<config.acceptable_error else '❌'}\")\n",
    "print(f\"Finished because: {result_lin.end_reason.value}\")\n",
    "print(f\"Final weights: {perceptron_lin.w}\")"
   ]
  }
 ],
 "metadata": {
  "kernelspec": {
   "display_name": "Python 3 (ipykernel)",
   "language": "python",
   "name": "python3"
  },
  "language_info": {
   "codemirror_mode": {
    "name": "ipython",
    "version": 3
   },
   "file_extension": ".py",
   "mimetype": "text/x-python",
   "name": "python",
   "nbconvert_exporter": "python",
   "pygments_lexer": "ipython3",
   "version": "3.10.8"
  }
 },
 "nbformat": 4,
 "nbformat_minor": 5
}
