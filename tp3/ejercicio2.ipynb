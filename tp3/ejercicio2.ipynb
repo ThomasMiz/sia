{
 "cells": [
  {
   "cell_type": "code",
   "execution_count": null,
   "id": "d6b49c98",
   "metadata": {
    "ExecuteTime": {
     "end_time": "2023-05-02T19:45:33.890203Z",
     "start_time": "2023-05-02T19:45:33.658805Z"
    }
   },
   "outputs": [],
   "source": [
    "import numpy as np\n",
    "from src.perceptron import Perceptron\n",
    "from src.trainer import TrainerConfig, train_perceptron, evaluate_perceptron\n",
    "from src.readers import read_csv\n",
    "from src.plotter import plot_arrays, plot_bars"
   ]
  },
  {
   "cell_type": "code",
   "execution_count": null,
   "id": "f8232a11",
   "metadata": {
    "ExecuteTime": {
     "end_time": "2023-05-02T19:45:33.893723Z",
     "start_time": "2023-05-02T19:45:33.890621Z"
    }
   },
   "outputs": [],
   "source": [
    "dataset, dataset_outputs = read_csv('TP3-ej2-conjunto.csv')\n",
    "\n",
    "config = TrainerConfig.from_file(\"ejercicio2-lineal-config.json\")"
   ]
  },
  {
   "cell_type": "code",
   "execution_count": null,
   "id": "b3a857b6",
   "metadata": {
    "ExecuteTime": {
     "end_time": "2023-05-02T19:45:33.898429Z",
     "start_time": "2023-05-02T19:45:33.896185Z"
    }
   },
   "outputs": [],
   "source": [
    "perceptron_lin = Perceptron(\n",
    "    initial_weights=np.random.random(len(dataset[0]) + 1) * 2 - 1,\n",
    "    theta_func=config.theta\n",
    ")\n",
    "\n",
    "print(f\"Initial weights for LINEAR perceptron: {perceptron_lin.w}\")\n",
    "\n",
    "error = evaluate_perceptron(\n",
    "    perceptron=perceptron_lin,\n",
    "    dataset=dataset,\n",
    "    dataset_outputs=dataset_outputs,\n",
    "    error_func=config.error_func,\n",
    "    print_output=True,\n",
    "    acceptable_error=config.acceptable_error\n",
    ")\n",
    "\n",
    "print(f\"LINEAR perceptron initially has an error of {error} {'✅' if error<=config.acceptable_error else '❌'}\")"
   ]
  },
  {
   "cell_type": "code",
   "execution_count": null,
   "id": "d07d3d0e",
   "metadata": {
    "ExecuteTime": {
     "end_time": "2023-05-02T19:45:33.993143Z",
     "start_time": "2023-05-02T19:45:33.898961Z"
    }
   },
   "outputs": [],
   "source": [
    "result_lin = train_perceptron(\n",
    "    perceptron=perceptron_lin,\n",
    "    dataset=dataset,\n",
    "    dataset_outputs=dataset_outputs,\n",
    "    config=config\n",
    ")"
   ]
  },
  {
   "cell_type": "code",
   "execution_count": null,
   "id": "9e7865a1",
   "metadata": {
    "ExecuteTime": {
     "end_time": "2023-05-02T19:45:34.104830Z",
     "start_time": "2023-05-02T19:45:33.996290Z"
    }
   },
   "outputs": [],
   "source": [
    "error = evaluate_perceptron(\n",
    "    perceptron=perceptron_lin,\n",
    "    dataset=dataset,\n",
    "    dataset_outputs=dataset_outputs,\n",
    "    error_func=config.error_func,\n",
    "    print_output=True,\n",
    "    acceptable_error=config.acceptable_error\n",
    ")\n",
    "\n",
    "print(f\"LINEAR perceptron after training for {result_lin.epoch_num} epoch{'' if result_lin.epoch_num == 1 else 's'} has an error of {error} {'✅' if error<=config.acceptable_error else '❌'}\")\n",
    "print(f\"Finished because: {result_lin.end_reason.value}\")\n",
    "print(f\"Final weights: {perceptron_lin.w}\")"
   ]
  },
  {
   "cell_type": "code",
   "execution_count": null,
   "id": "40ebcbd9",
   "metadata": {
    "ExecuteTime": {
     "end_time": "2023-05-02T19:45:34.109311Z",
     "start_time": "2023-05-02T19:45:34.105927Z"
    },
    "scrolled": true
   },
   "outputs": [],
   "source": [
    "config = TrainerConfig.from_file(\"ejercicio2-tanh-config.json\")\n",
    "\n",
    "perceptron_tanh = Perceptron(\n",
    "    initial_weights=np.random.random(len(dataset[0]) + 1) * 2 - 1,\n",
    "    theta_func=config.theta\n",
    ")\n",
    "outputs_tanh = config.scaler.scale(dataset_outputs)\n",
    "\n",
    "print(f\"Initial weights for TANH perceptron: {perceptron_tanh.w}\")\n",
    "\n",
    "error = evaluate_perceptron(\n",
    "    perceptron=perceptron_tanh,\n",
    "    dataset=dataset,\n",
    "    dataset_outputs=outputs_tanh,\n",
    "    error_func=config.error_func,\n",
    "    print_output=True,\n",
    "    acceptable_error=config.acceptable_error\n",
    ")\n",
    "\n",
    "print(f\"TANH perceptron initially has an error of {error} {'✅' if error<=config.acceptable_error else '❌'}\")"
   ]
  },
  {
   "cell_type": "code",
   "execution_count": null,
   "id": "0f5e2f79",
   "metadata": {
    "ExecuteTime": {
     "end_time": "2023-05-02T19:45:34.374569Z",
     "start_time": "2023-05-02T19:45:34.109806Z"
    },
    "scrolled": true
   },
   "outputs": [],
   "source": [
    "result_tanh = train_perceptron(\n",
    "    perceptron=perceptron_tanh,\n",
    "    dataset=dataset,\n",
    "    dataset_outputs=outputs_tanh,\n",
    "    config=config\n",
    ")"
   ]
  },
  {
   "cell_type": "code",
   "execution_count": null,
   "id": "cd953d7b",
   "metadata": {
    "ExecuteTime": {
     "end_time": "2023-05-02T19:45:34.378549Z",
     "start_time": "2023-05-02T19:45:34.376478Z"
    }
   },
   "outputs": [],
   "source": [
    "error = evaluate_perceptron(\n",
    "    perceptron=perceptron_tanh,\n",
    "    dataset=dataset,\n",
    "    dataset_outputs=outputs_tanh,\n",
    "    error_func=config.error_func,\n",
    "    print_output=True,\n",
    "    acceptable_error=config.acceptable_error\n",
    ")\n",
    "\n",
    "print(f\"TANH perceptron after training for {result_tanh.epoch_num} epoch{'' if result_tanh.epoch_num == 1 else 's'} has an error of {error} {'✅' if error<=config.acceptable_error else '❌'}\")\n",
    "print(f\"Finished because: {result_tanh.end_reason.value}\")\n",
    "print(f\"Final weights: {perceptron_tanh.w}\")"
   ]
  },
  {
   "cell_type": "code",
   "execution_count": null,
   "id": "e90e64b0",
   "metadata": {
    "ExecuteTime": {
     "end_time": "2023-05-02T19:45:34.383213Z",
     "start_time": "2023-05-02T19:45:34.379639Z"
    },
    "scrolled": true
   },
   "outputs": [],
   "source": [
    "config = TrainerConfig.from_file(\"ejercicio2-logistic-config.json\")\n",
    "\n",
    "perceptron_logis = Perceptron(\n",
    "    initial_weights=np.random.random(len(dataset[0]) + 1) * 2 - 1,\n",
    "    theta_func=config.theta\n",
    ")\n",
    "outputs_logis = config.scaler.scale(dataset_outputs)\n",
    "\n",
    "print(f\"Initial weights for LOGISTIC perceptron: {perceptron_logis.w}\")\n",
    "\n",
    "error = evaluate_perceptron(\n",
    "    perceptron=perceptron_logis,\n",
    "    dataset=dataset,\n",
    "    dataset_outputs=outputs_logis,\n",
    "    error_func=config.error_func,\n",
    "    print_output=True,\n",
    "    acceptable_error=config.acceptable_error\n",
    ")\n",
    "\n",
    "print(f\"LOGISTIC perceptron initially has an error of {error} {'✅' if error<=config.acceptable_error else '❌'}\")"
   ]
  },
  {
   "cell_type": "code",
   "execution_count": null,
   "id": "3b6d5bba",
   "metadata": {
    "ExecuteTime": {
     "end_time": "2023-05-02T19:45:34.766495Z",
     "start_time": "2023-05-02T19:45:34.384151Z"
    }
   },
   "outputs": [],
   "source": [
    "result_logis = train_perceptron(\n",
    "    perceptron=perceptron_logis,\n",
    "    dataset=dataset,\n",
    "    dataset_outputs=outputs_logis,\n",
    "    config=config\n",
    ")"
   ]
  },
  {
   "cell_type": "code",
   "execution_count": null,
   "id": "5b61692b",
   "metadata": {
    "ExecuteTime": {
     "end_time": "2023-05-02T19:45:34.770834Z",
     "start_time": "2023-05-02T19:45:34.768343Z"
    }
   },
   "outputs": [],
   "source": [
    "error = evaluate_perceptron(\n",
    "    perceptron=perceptron_logis,\n",
    "    dataset=dataset,\n",
    "    dataset_outputs=outputs_logis,\n",
    "    error_func=config.error_func,\n",
    "    print_output=True,\n",
    "    acceptable_error=config.acceptable_error\n",
    ")\n",
    "\n",
    "print(f\"LOGISTIC perceptron after training for {result_logis.epoch_num} epoch{'' if result_logis.epoch_num == 1 else 's'} has an error of {error} {'✅' if error<=config.acceptable_error else '❌'}\")\n",
    "print(f\"Finished because: {result_logis.end_reason.value}\")\n",
    "print(f\"Final weights: {perceptron_logis.w}\")"
   ]
  },
  {
   "cell_type": "code",
   "execution_count": null,
   "id": "e57a022a",
   "metadata": {},
   "outputs": [],
   "source": [
    "def map_to_percentage(array, a, b):\n",
    "    range_length = b - a\n",
    "    return [(value - a) / range_length for value in array]\n",
    "\n",
    "lin_range = (0.0, 88.0)\n",
    "tanh_range = (-1.0, 1.0)\n",
    "logis_range = (0.0, 1.0)\n",
    "\n",
    "erros_lin_percentage = map_to_percentage(result_lin.error_history, *lin_range)\n",
    "erros_tanh_percentage = map_to_percentage(result_tanh.error_history, *tanh_range)\n",
    "erros_logis_percentage = map_to_percentage(result_logis.error_history, *logis_range)\n",
    "errors = [erros_lin_percentage, erros_tanh_percentage, erros_logis_percentage]\n",
    "errors_labels = [\"LINEAR\", \"TANH\", \"LOGISTIC\"]\n",
    "\n",
    "plot_arrays(errors, errors_labels, \"Average Percentual Error per Epoch\", \"Epoch\", \"Error\").plot()"
   ]
  },
  {
   "cell_type": "code",
   "execution_count": null,
   "id": "b0899e7c",
   "metadata": {},
   "outputs": [],
   "source": [
    "from src.dataset_selectors import split_random_by_percentage\n",
    "from src.runner import run_n_times"
   ]
  },
  {
   "cell_type": "code",
   "execution_count": null,
   "id": "55dca47a",
   "metadata": {},
   "outputs": [],
   "source": [
    "def get_dataset_10_training_90_testing():\n",
    "    return split_random_by_percentage(dataset, dataset_outputs, 0.1)\n",
    "\n",
    "config = TrainerConfig.from_file(\"ejercicio2-lineal-config.json\")\n",
    "\n",
    "(\n",
    "    training_error_mean,\n",
    "    training_error_stdev,\n",
    "    test_error_mean,\n",
    "    test_error_stdev,\n",
    ") = run_n_times(\n",
    "    10,\n",
    "    lambda: get_dataset_10_training_90_testing(),\n",
    "    config,\n",
    ")\n",
    "\n",
    "plot_bars(\n",
    "    [training_error_mean, test_error_mean],\n",
    "    [training_error_stdev, test_error_stdev],\n",
    "    [\"Training (Aprendizaje)\", \"Test (Generalizacion)\"],\n",
    "    \"LINEAR - 10% Training 90% Test - Error Promedio\",\n",
    "    \"Dataset\",\n",
    "    \"Error\",\n",
    ").plot()"
   ]
  },
  {
   "cell_type": "code",
   "execution_count": null,
   "id": "310f5d2e",
   "metadata": {},
   "outputs": [],
   "source": [
    "def get_dataset_90_training_10_testing():\n",
    "    return split_random_by_percentage(dataset, dataset_outputs, 0.9)\n",
    "\n",
    "config = TrainerConfig.from_file(\"ejercicio2-lineal-config.json\")\n",
    "\n",
    "(\n",
    "    training_error_mean,\n",
    "    training_error_stdev,\n",
    "    test_error_mean,\n",
    "    test_error_stdev,\n",
    ") = run_n_times(\n",
    "    10,\n",
    "    lambda: get_dataset_90_training_10_testing(),\n",
    "    config,\n",
    ")\n",
    "\n",
    "plot_bars(\n",
    "    [training_error_mean, test_error_mean],\n",
    "    [training_error_stdev, test_error_stdev],\n",
    "    [\"Training (Aprendizaje)\", \"Test (Generalizacion)\"],\n",
    "    \"LINEAR - 90% Training 10% Test - Error Promedio\",\n",
    "    \"Dataset\",\n",
    "    \"Error\",\n",
    ").plot()"
   ]
  },
  {
   "cell_type": "code",
   "execution_count": null,
   "id": "63f1fad9",
   "metadata": {},
   "outputs": [],
   "source": [
    "def get_dataset_90_training_10_testing():\n",
    "    train_dataset, train_dataset_outputs, test_dataset, test_dataset_outputs = split_random_by_percentage(dataset, dataset_outputs, 0.9)\n",
    "    train_dataset_outputs = config.scaler.scale(train_dataset_outputs)\n",
    "    test_dataset_outputs = config.scaler.scale(test_dataset_outputs)\n",
    "    return train_dataset, train_dataset_outputs, test_dataset, test_dataset_outputs\n",
    "\n",
    "config = TrainerConfig.from_file(\"ejercicio2-tanh-config.json\")\n",
    "\n",
    "(\n",
    "    training_error_mean,\n",
    "    training_error_stdev,\n",
    "    test_error_mean,\n",
    "    test_error_stdev,\n",
    ") = run_n_times(\n",
    "    10,\n",
    "    lambda: get_dataset_90_training_10_testing(),\n",
    "    config,\n",
    ")\n",
    "\n",
    "plot_bars(\n",
    "    [training_error_mean, test_error_mean],\n",
    "    [training_error_stdev, test_error_stdev],\n",
    "    [\"Training (Aprendizaje)\", \"Test (Generalizacion)\"],\n",
    "    \"TANH - 90% Training 10% Test - Error Promedio\",\n",
    "    \"Dataset\",\n",
    "    \"Error\",\n",
    ").plot()"
   ]
  },
  {
   "cell_type": "code",
   "execution_count": null,
   "id": "4359cc73",
   "metadata": {},
   "outputs": [],
   "source": [
    "def get_dataset_10_training_90_testing():\n",
    "    train_dataset, train_dataset_outputs, test_dataset, test_dataset_outputs = split_random_by_percentage(dataset, dataset_outputs, 0.1)\n",
    "    train_dataset_outputs = config.scaler.scale(train_dataset_outputs)\n",
    "    test_dataset_outputs = config.scaler.scale(test_dataset_outputs)\n",
    "    return train_dataset, train_dataset_outputs, test_dataset, test_dataset_outputs\n",
    "\n",
    "config = TrainerConfig.from_file(\"ejercicio2-tanh-config.json\")\n",
    "\n",
    "(\n",
    "    training_error_mean,\n",
    "    training_error_stdev,\n",
    "    test_error_mean,\n",
    "    test_error_stdev,\n",
    ") = run_n_times(\n",
    "    10,\n",
    "    lambda: get_dataset_10_training_90_testing(),\n",
    "    config,\n",
    ")\n",
    "\n",
    "plot_bars(\n",
    "    [training_error_mean, test_error_mean],\n",
    "    [training_error_stdev, test_error_stdev],\n",
    "    [\"Training (Aprendizaje)\", \"Test (Generalizacion)\"],\n",
    "    \"TANH - 10% Training 90% Test - Error Promedio\",\n",
    "    \"Dataset\",\n",
    "    \"Error\",\n",
    ").plot()"
   ]
  },
  {
   "cell_type": "code",
   "execution_count": null,
   "id": "028b1089",
   "metadata": {},
   "outputs": [],
   "source": [
    "def get_dataset_50_training_50_testing():\n",
    "    train_dataset, train_dataset_outputs, test_dataset, test_dataset_outputs = split_random_by_percentage(dataset, dataset_outputs, 0.5)\n",
    "    train_dataset_outputs = config.scaler.scale(train_dataset_outputs)\n",
    "    test_dataset_outputs = config.scaler.scale(test_dataset_outputs)\n",
    "    return train_dataset, train_dataset_outputs, test_dataset, test_dataset_outputs\n",
    "\n",
    "config = TrainerConfig.from_file(\"ejercicio2-tanh-config.json\")\n",
    "\n",
    "(\n",
    "    training_error_mean,\n",
    "    training_error_stdev,\n",
    "    test_error_mean,\n",
    "    test_error_stdev,\n",
    ") = run_n_times(\n",
    "    10,\n",
    "    lambda: get_dataset_50_training_50_testing(),\n",
    "    config,\n",
    ")\n",
    "\n",
    "plot_bars(\n",
    "    [training_error_mean, test_error_mean],\n",
    "    [training_error_stdev, test_error_stdev],\n",
    "    [\"Training (Aprendizaje)\", \"Test (Generalizacion)\"],\n",
    "    \"TANH - 50% Training 50% Test - Error Promedio\",\n",
    "    \"Dataset\",\n",
    "    \"Error\",\n",
    ").plot()"
   ]
  }
 ],
 "metadata": {
  "kernelspec": {
   "display_name": "Python 3 (ipykernel)",
   "language": "python",
   "name": "python3"
  },
  "language_info": {
   "codemirror_mode": {
    "name": "ipython",
    "version": 3
   },
   "file_extension": ".py",
   "mimetype": "text/x-python",
   "name": "python",
   "nbconvert_exporter": "python",
   "pygments_lexer": "ipython3",
   "version": "3.10.11"
  }
 },
 "nbformat": 4,
 "nbformat_minor": 5
}
