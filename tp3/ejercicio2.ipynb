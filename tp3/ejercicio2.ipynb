{
 "cells": [
  {
   "cell_type": "code",
   "execution_count": null,
   "id": "d6b49c98",
   "metadata": {},
   "outputs": [],
   "source": [
    "import numpy as np\n",
    "from src.perceptron import Perceptron\n",
    "from src.trainer import TrainerConfig, train_perceptron, evaluate_perceptron\n",
    "from src.readers import read_csv"
   ]
  },
  {
   "cell_type": "code",
   "execution_count": null,
   "id": "f8232a11",
   "metadata": {},
   "outputs": [],
   "source": [
    "dataset, dataset_outputs = read_csv('TP3-ej2-conjunto.csv')\n",
    "\n",
    "config = TrainerConfig.from_file(\"ejercicio2-lineal-config.json\")"
   ]
  },
  {
   "cell_type": "code",
   "execution_count": null,
   "id": "b3a857b6",
   "metadata": {},
   "outputs": [],
   "source": [
    "perceptron_lin = Perceptron(\n",
    "    initial_weights=np.random.random(len(dataset[0]) + 1) * 2 - 1,\n",
    "    theta_func=config.theta\n",
    ")\n",
    "\n",
    "print(f\"Initial weights for LINEAR perceptron: {perceptron_lin.w}\")\n",
    "\n",
    "error = evaluate_perceptron(\n",
    "    perceptron=perceptron_lin,\n",
    "    dataset=dataset,\n",
    "    dataset_outputs=dataset_outputs,\n",
    "    error_func=config.error_func,\n",
    "    print_output=True,\n",
    "    acceptable_error=config.acceptable_error\n",
    ")\n",
    "\n",
    "print(f\"LINEAR perceptron initially has an error of {error} {'✅' if error<=config.acceptable_error else '❌'}\")"
   ]
  },
  {
   "cell_type": "code",
   "execution_count": null,
   "id": "d07d3d0e",
   "metadata": {},
   "outputs": [],
   "source": [
    "result_lin = train_perceptron(\n",
    "    perceptron=perceptron_lin,\n",
    "    dataset=dataset,\n",
    "    dataset_outputs=dataset_outputs,\n",
    "    config=config\n",
    ")"
   ]
  },
  {
   "cell_type": "code",
   "execution_count": null,
   "id": "9e7865a1",
   "metadata": {},
   "outputs": [],
   "source": [
    "error = evaluate_perceptron(\n",
    "    perceptron=perceptron_lin,\n",
    "    dataset=dataset,\n",
    "    dataset_outputs=dataset_outputs,\n",
    "    error_func=config.error_func,\n",
    "    print_output=True,\n",
    "    acceptable_error=config.acceptable_error\n",
    ")\n",
    "\n",
    "print(f\"LINEAR perceptron after training for {result_lin.epoch_num} epoch{'' if result_lin.epoch_num == 1 else 's'} has an error of {error} {'✅' if error<=config.acceptable_error else '❌'}\")\n",
    "print(f\"Finished because: {result_lin.end_reason.value}\")\n",
    "print(f\"Final weights: {perceptron_lin.w}\")"
   ]
  },
  {
   "cell_type": "code",
   "execution_count": null,
   "id": "40ebcbd9",
   "metadata": {
    "scrolled": true
   },
   "outputs": [],
   "source": [
    "config = TrainerConfig.from_file(\"ejercicio2-tanh-config.json\")\n",
    "\n",
    "perceptron_tanh = Perceptron(\n",
    "    initial_weights=np.random.random(len(dataset[0]) + 1) * 2 - 1,\n",
    "    theta_func=config.theta\n",
    ")\n",
    "outputs_tanh = config.scaler.scale(dataset_outputs)\n",
    "\n",
    "print(f\"Initial weights for TANH perceptron: {perceptron_tanh.w}\")\n",
    "\n",
    "error = evaluate_perceptron(\n",
    "    perceptron=perceptron_tanh,\n",
    "    dataset=dataset,\n",
    "    dataset_outputs=outputs_tanh,\n",
    "    error_func=config.error_func,\n",
    "    print_output=True,\n",
    "    acceptable_error=config.acceptable_error\n",
    ")\n",
    "\n",
    "print(f\"TANH perceptron initially has an error of {error} {'✅' if error<=config.acceptable_error else '❌'}\")"
   ]
  },
  {
   "cell_type": "code",
   "execution_count": null,
   "id": "0f5e2f79",
   "metadata": {
    "scrolled": true
   },
   "outputs": [],
   "source": [
    "result_tanh = train_perceptron(\n",
    "    perceptron=perceptron_tanh,\n",
    "    dataset=dataset,\n",
    "    dataset_outputs=outputs_tanh,\n",
    "    config=config\n",
    ")"
   ]
  },
  {
   "cell_type": "code",
   "execution_count": null,
   "id": "cd953d7b",
   "metadata": {},
   "outputs": [],
   "source": [
    "error = evaluate_perceptron(\n",
    "    perceptron=perceptron_tanh,\n",
    "    dataset=dataset,\n",
    "    dataset_outputs=outputs_tanh,\n",
    "    error_func=config.error_func,\n",
    "    print_output=True,\n",
    "    acceptable_error=config.acceptable_error\n",
    ")\n",
    "\n",
    "print(f\"TANH perceptron after training for {result_tanh.epoch_num} epoch{'' if result_tanh.epoch_num == 1 else 's'} has an error of {error} {'✅' if error<=config.acceptable_error else '❌'}\")\n",
    "print(f\"Finished because: {result_tanh.end_reason.value}\")\n",
    "print(f\"Final weights: {perceptron_tanh.w}\")"
   ]
  },
  {
   "cell_type": "code",
   "execution_count": null,
   "id": "e90e64b0",
   "metadata": {
    "scrolled": true
   },
   "outputs": [],
   "source": [
    "config = TrainerConfig.from_file(\"ejercicio2-logistic-config.json\")\n",
    "\n",
    "perceptron_logis = Perceptron(\n",
    "    initial_weights=np.random.random(len(dataset[0]) + 1) * 2 - 1,\n",
    "    theta_func=config.theta\n",
    ")\n",
    "outputs_logis = config.scaler.scale(dataset_outputs)\n",
    "\n",
    "print(f\"Initial weights for LOGISTIC perceptron: {perceptron_logis.w}\")\n",
    "\n",
    "error = evaluate_perceptron(\n",
    "    perceptron=perceptron_logis,\n",
    "    dataset=dataset,\n",
    "    dataset_outputs=outputs_logis,\n",
    "    error_func=config.error_func,\n",
    "    print_output=True,\n",
    "    acceptable_error=config.acceptable_error\n",
    ")\n",
    "\n",
    "print(f\"LOGISTIC perceptron initially has an error of {error} {'✅' if error<=config.acceptable_error else '❌'}\")"
   ]
  },
  {
   "cell_type": "code",
   "execution_count": null,
   "id": "3b6d5bba",
   "metadata": {},
   "outputs": [],
   "source": [
    "result_logis = train_perceptron(\n",
    "    perceptron=perceptron_logis,\n",
    "    dataset=dataset,\n",
    "    dataset_outputs=outputs_logis,\n",
    "    config=config\n",
    ")"
   ]
  },
  {
   "cell_type": "code",
   "execution_count": null,
   "id": "5b61692b",
   "metadata": {},
   "outputs": [],
   "source": [
    "error = evaluate_perceptron(\n",
    "    perceptron=perceptron_logis,\n",
    "    dataset=dataset,\n",
    "    dataset_outputs=outputs_logis,\n",
    "    error_func=config.error_func,\n",
    "    print_output=True,\n",
    "    acceptable_error=config.acceptable_error\n",
    ")\n",
    "\n",
    "print(f\"LOGISTIC perceptron after training for {result_logis.epoch_num} epoch{'' if result_logis.epoch_num == 1 else 's'} has an error of {error} {'✅' if error<=config.acceptable_error else '❌'}\")\n",
    "print(f\"Finished because: {result_logis.end_reason.value}\")\n",
    "print(f\"Final weights: {perceptron_logis.w}\")"
   ]
  }
 ],
 "metadata": {
  "kernelspec": {
   "display_name": "Python 3 (ipykernel)",
   "language": "python",
   "name": "python3"
  },
  "language_info": {
   "codemirror_mode": {
    "name": "ipython",
    "version": 3
   },
   "file_extension": ".py",
   "mimetype": "text/x-python",
   "name": "python",
   "nbconvert_exporter": "python",
   "pygments_lexer": "ipython3",
   "version": "3.10.9"
  }
 },
 "nbformat": 4,
 "nbformat_minor": 5
}
