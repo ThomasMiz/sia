{
 "cells": [
  {
   "cell_type": "code",
   "execution_count": null,
   "id": "d6b49c98",
   "metadata": {
    "ExecuteTime": {
     "end_time": "2023-05-02T19:45:33.890203Z",
     "start_time": "2023-05-02T19:45:33.658805Z"
    }
   },
   "outputs": [],
   "source": [
    "import numpy as np\n",
    "from src.perceptron import Perceptron\n",
    "from src.trainer import TrainerConfig, train_perceptron, evaluate_perceptron\n",
    "from src.readers import read_csv\n",
    "from src.plotter import plot_arrays, plot_bars\n",
    "from src.theta_funcs import ThetaFunction\n",
    "from src.error_funcs import cost_average"
   ]
  },
  {
   "cell_type": "code",
   "execution_count": null,
   "id": "f8232a11",
   "metadata": {
    "ExecuteTime": {
     "end_time": "2023-05-02T19:45:33.893723Z",
     "start_time": "2023-05-02T19:45:33.890621Z"
    }
   },
   "outputs": [],
   "source": [
    "dataset, dataset_outputs = read_csv('TP3-ej2-conjunto.csv')\n",
    "\n",
    "config = TrainerConfig.from_file(\"ejercicio2-lineal-config.json\")\n",
    "\n",
    "initial_weights = np.random.random(len(dataset[0]) + 1) * 2 - 1"
   ]
  },
  {
   "cell_type": "code",
   "execution_count": null,
   "id": "b3a857b6",
   "metadata": {
    "ExecuteTime": {
     "end_time": "2023-05-02T19:45:33.898429Z",
     "start_time": "2023-05-02T19:45:33.896185Z"
    }
   },
   "outputs": [],
   "source": [
    "perceptron_lin = Perceptron(\n",
    "    initial_weights=np.copy(initial_weights),\n",
    "    theta_func=config.theta\n",
    ")\n",
    "\n",
    "print(f\"Initial weights for LINEAR perceptron: {perceptron_lin.w}\")\n",
    "\n",
    "error = evaluate_perceptron(\n",
    "    perceptron=perceptron_lin,\n",
    "    dataset=dataset,\n",
    "    dataset_outputs=dataset_outputs,\n",
    "    error_func=config.error_func,\n",
    "    print_output=True,\n",
    "    acceptable_error=config.acceptable_error\n",
    ")\n",
    "\n",
    "print(f\"LINEAR perceptron initially has an error of {error} {'✅' if error<=config.acceptable_error else '❌'}\")"
   ]
  },
  {
   "cell_type": "code",
   "execution_count": null,
   "id": "d07d3d0e",
   "metadata": {
    "ExecuteTime": {
     "end_time": "2023-05-02T19:45:33.993143Z",
     "start_time": "2023-05-02T19:45:33.898961Z"
    }
   },
   "outputs": [],
   "source": [
    "result_lin = train_perceptron(\n",
    "    perceptron=perceptron_lin,\n",
    "    dataset=dataset,\n",
    "    dataset_outputs=dataset_outputs,\n",
    "    config=config\n",
    ")"
   ]
  },
  {
   "cell_type": "code",
   "execution_count": null,
   "id": "9e7865a1",
   "metadata": {
    "ExecuteTime": {
     "end_time": "2023-05-02T19:45:34.104830Z",
     "start_time": "2023-05-02T19:45:33.996290Z"
    }
   },
   "outputs": [],
   "source": [
    "error = evaluate_perceptron(\n",
    "    perceptron=perceptron_lin,\n",
    "    dataset=dataset,\n",
    "    dataset_outputs=dataset_outputs,\n",
    "    error_func=config.error_func,\n",
    "    print_output=True,\n",
    "    acceptable_error=config.acceptable_error\n",
    ")\n",
    "\n",
    "print(f\"LINEAR perceptron after training for {result_lin.epoch_num} epoch{'' if result_lin.epoch_num == 1 else 's'} has an error of {error} {'✅' if error<=config.acceptable_error else '❌'}\")\n",
    "print(f\"Finished because: {result_lin.end_reason.value}\")\n",
    "print(f\"Final weights: {perceptron_lin.w}\")"
   ]
  },
  {
   "cell_type": "code",
   "execution_count": null,
   "id": "40ebcbd9",
   "metadata": {
    "ExecuteTime": {
     "end_time": "2023-05-02T19:45:34.109311Z",
     "start_time": "2023-05-02T19:45:34.105927Z"
    },
    "scrolled": true
   },
   "outputs": [],
   "source": [
    "config = TrainerConfig.from_file(\"ejercicio2-tanh-config.json\")\n",
    "\n",
    "perceptron_tanh = Perceptron(\n",
    "    initial_weights=np.copy(initial_weights),\n",
    "    theta_func=config.theta\n",
    ")\n",
    "outputs_tanh = config.scaler.scale(dataset_outputs)\n",
    "\n",
    "print(f\"Initial weights for TANH perceptron: {perceptron_tanh.w}\")\n",
    "\n",
    "error = evaluate_perceptron(\n",
    "    perceptron=perceptron_tanh,\n",
    "    dataset=dataset,\n",
    "    dataset_outputs=outputs_tanh,\n",
    "    error_func=config.error_func,\n",
    "    print_output=True,\n",
    "    acceptable_error=config.acceptable_error\n",
    ")\n",
    "\n",
    "print(f\"TANH perceptron initially has an error of {error} {'✅' if error<=config.acceptable_error else '❌'}\")"
   ]
  },
  {
   "cell_type": "code",
   "execution_count": null,
   "id": "0f5e2f79",
   "metadata": {
    "ExecuteTime": {
     "end_time": "2023-05-02T19:45:34.374569Z",
     "start_time": "2023-05-02T19:45:34.109806Z"
    },
    "scrolled": true
   },
   "outputs": [],
   "source": [
    "result_tanh = train_perceptron(\n",
    "    perceptron=perceptron_tanh,\n",
    "    dataset=dataset,\n",
    "    dataset_outputs=outputs_tanh,\n",
    "    config=config\n",
    ")"
   ]
  },
  {
   "cell_type": "code",
   "execution_count": null,
   "id": "cd953d7b",
   "metadata": {
    "ExecuteTime": {
     "end_time": "2023-05-02T19:45:34.378549Z",
     "start_time": "2023-05-02T19:45:34.376478Z"
    }
   },
   "outputs": [],
   "source": [
    "error = evaluate_perceptron(\n",
    "    perceptron=perceptron_tanh,\n",
    "    dataset=dataset,\n",
    "    dataset_outputs=outputs_tanh,\n",
    "    error_func=config.error_func,\n",
    "    print_output=True,\n",
    "    acceptable_error=config.acceptable_error\n",
    ")\n",
    "\n",
    "print(f\"TANH perceptron after training for {result_tanh.epoch_num} epoch{'' if result_tanh.epoch_num == 1 else 's'} has an error of {error} {'✅' if error<=config.acceptable_error else '❌'}\")\n",
    "print(f\"Finished because: {result_tanh.end_reason.value}\")\n",
    "print(f\"Final weights: {perceptron_tanh.w}\")\n",
    "\n",
    "print(f\"Error obtained by inverse-scaling outputs: {cost_average(dataset_outputs, config.scaler.reverse([perceptron_tanh.evaluate(dat) for dat in dataset]))}\")"
   ]
  },
  {
   "cell_type": "code",
   "execution_count": null,
   "id": "e90e64b0",
   "metadata": {
    "ExecuteTime": {
     "end_time": "2023-05-02T19:45:34.383213Z",
     "start_time": "2023-05-02T19:45:34.379639Z"
    },
    "scrolled": true
   },
   "outputs": [],
   "source": [
    "config = TrainerConfig.from_file(\"ejercicio2-logistic-config.json\")\n",
    "\n",
    "perceptron_logis = Perceptron(\n",
    "    initial_weights=np.copy(initial_weights),\n",
    "    theta_func=config.theta\n",
    ")\n",
    "outputs_logis = config.scaler.scale(dataset_outputs)\n",
    "\n",
    "print(f\"Initial weights for LOGISTIC perceptron: {perceptron_logis.w}\")\n",
    "\n",
    "error = evaluate_perceptron(\n",
    "    perceptron=perceptron_logis,\n",
    "    dataset=dataset,\n",
    "    dataset_outputs=outputs_logis,\n",
    "    error_func=config.error_func,\n",
    "    print_output=True,\n",
    "    acceptable_error=config.acceptable_error\n",
    ")\n",
    "\n",
    "print(f\"LOGISTIC perceptron initially has an error of {error} {'✅' if error<=config.acceptable_error else '❌'}\")"
   ]
  },
  {
   "cell_type": "code",
   "execution_count": null,
   "id": "3b6d5bba",
   "metadata": {
    "ExecuteTime": {
     "end_time": "2023-05-02T19:45:34.766495Z",
     "start_time": "2023-05-02T19:45:34.384151Z"
    }
   },
   "outputs": [],
   "source": [
    "result_logis = train_perceptron(\n",
    "    perceptron=perceptron_logis,\n",
    "    dataset=dataset,\n",
    "    dataset_outputs=outputs_logis,\n",
    "    config=config\n",
    ")"
   ]
  },
  {
   "cell_type": "code",
   "execution_count": null,
   "id": "5b61692b",
   "metadata": {
    "ExecuteTime": {
     "end_time": "2023-05-02T19:45:34.770834Z",
     "start_time": "2023-05-02T19:45:34.768343Z"
    }
   },
   "outputs": [],
   "source": [
    "error = evaluate_perceptron(\n",
    "    perceptron=perceptron_logis,\n",
    "    dataset=dataset,\n",
    "    dataset_outputs=outputs_logis,\n",
    "    error_func=config.error_func,\n",
    "    print_output=True,\n",
    "    acceptable_error=config.acceptable_error\n",
    ")\n",
    "\n",
    "print(f\"LOGISTIC perceptron after training for {result_logis.epoch_num} epoch{'' if result_logis.epoch_num == 1 else 's'} has an error of {error} {'✅' if error<=config.acceptable_error else '❌'}\")\n",
    "print(f\"Finished because: {result_logis.end_reason.value}\")\n",
    "print(f\"Final weights: {perceptron_logis.w}\")\n",
    "\n",
    "print(f\"Error obtained by inverse-scaling outputs: {cost_average(dataset_outputs, config.scaler.reverse([perceptron_logis.evaluate(dat) for dat in dataset]))}\")"
   ]
  },
  {
   "cell_type": "code",
   "execution_count": null,
   "id": "e57a022a",
   "metadata": {},
   "outputs": [],
   "source": [
    "def map_to_percentage(array, a, b):\n",
    "    range_length = b - a\n",
    "    return [(value - a) / range_length for value in array]\n",
    "\n",
    "lin_range = (0, 3872)\n",
    "tanh_range = (0, 2.0)\n",
    "logis_range = (0.0, 0.5)\n",
    "\n",
    "erros_lin_percentage = map_to_percentage(result_lin.error_history, *lin_range)\n",
    "erros_tanh_percentage = map_to_percentage(result_tanh.error_history, *tanh_range)\n",
    "erros_logis_percentage = map_to_percentage(result_logis.error_history, *logis_range)\n",
    "errors = [erros_lin_percentage, erros_tanh_percentage, erros_logis_percentage]\n",
    "errors_labels = [\"LINEAR\", \"TANH\", \"LOGISTIC\"]\n",
    "\n",
    "plot_arrays(errors, errors_labels, \"Average Percentual Error per Epoch\", \"Epoch\", \"Error\").plot()"
   ]
  },
  {
   "cell_type": "code",
   "execution_count": null,
   "id": "b0899e7c",
   "metadata": {},
   "outputs": [],
   "source": [
    "from src.dataset_selectors import split_random_by_percentage, handpick_diverse_training_dataset\n",
    "from src.runner import run_n_times"
   ]
  },
  {
   "cell_type": "code",
   "execution_count": null,
   "id": "05ca0526",
   "metadata": {},
   "outputs": [],
   "source": [
    "lin_range = (0, 3872)\n",
    "tanh_range = (0, 1.0)\n",
    "logis_range = (0.0, 1.0)\n",
    "\n",
    "def split_random_by_percentage_and_theta(percentage: float, theta: ThetaFunction, theta_name: str):\n",
    "    train_dataset, train_dataset_outputs, test_dataset, test_dataset_outputs = split_random_by_percentage(dataset, dataset_outputs, percentage)\n",
    "\n",
    "    if(config.theta != \"lineal\"):\n",
    "        train_dataset_outputs = config.scaler.scale(train_dataset_outputs)\n",
    "        test_dataset_outputs = config.scaler.scale(test_dataset_outputs)\n",
    "    name = f\"{percentage*100}% Training {100-percentage*100}% Test para theta {theta_name}\"\n",
    "    \n",
    "    return train_dataset, train_dataset_outputs, test_dataset, test_dataset_outputs, name\n",
    "\n",
    "def split_handpicked_by_theta(theta: ThetaFunction, theta_name: str):\n",
    "    train_dataset, train_dataset_outputs, test_dataset, test_dataset_outputs = handpick_diverse_training_dataset(dataset, dataset_outputs)\n",
    "\n",
    "    if(config.theta != \"lineal\"):\n",
    "        train_dataset_outputs = config.scaler.scale(train_dataset_outputs)\n",
    "        test_dataset_outputs = config.scaler.scale(test_dataset_outputs)\n",
    "        name = f\"Handpick para theta {theta_name}\"\n",
    "    \n",
    "    return train_dataset, train_dataset_outputs, test_dataset, test_dataset_outputs, name\n",
    "    \n",
    "\n",
    "config_linear = TrainerConfig.from_file(\"ejercicio2-lineal-config.json\")\n",
    "config_tanh = TrainerConfig.from_file(\"ejercicio2-tanh-config.json\")\n",
    "config_logistic = TrainerConfig.from_file(\"ejercicio2-logistic-config.json\")\n",
    "configs = [config_linear, config_tanh, config_logistic]\n",
    "configs_names = [\"LINEAR\", \"TANH\", \"LOGISTIC\"]\n",
    "percentages = [0.1, 0.5, 0.9]\n",
    "\n",
    "training_errors = []\n",
    "test_errors = []\n",
    "\n",
    "for config in configs:\n",
    "    config_name = configs_names[configs.index(config)]\n",
    "    (\n",
    "        training_error_mean,\n",
    "        training_error_stdev,\n",
    "        test_error_mean,\n",
    "        test_error_stdev,\n",
    "        name\n",
    "    ) = run_n_times(\n",
    "        10,\n",
    "        lambda: split_handpicked_by_theta(config.theta, config_name),\n",
    "        config,\n",
    "    )\n",
    "\n",
    "    range = lin_range if config_name == \"LINEAR\" else tanh_range if config_name == \"TANH\" else logis_range\n",
    "\n",
    "    training_error = {\n",
    "        \"name\": f\"{config_name} - Handpick\",\n",
    "        \"mean\": map_to_percentage([training_error_mean], *range)[0],\n",
    "        \"stdev\": map_to_percentage([training_error_stdev], *range)[0]\n",
    "    }\n",
    "\n",
    "    training_errors.append(training_error)\n",
    "\n",
    "    test_error = {\n",
    "        \"name\": f\"{config_name} - Handpick\",\n",
    "        \"mean\": map_to_percentage([test_error_mean], *range)[0],\n",
    "        \"stdev\": map_to_percentage([test_error_stdev], *range)[0]\n",
    "    }\n",
    "\n",
    "    test_errors.append(test_error)\n",
    "\n",
    "    for percentage in percentages:\n",
    "        (\n",
    "            training_error_mean,\n",
    "            training_error_stdev,\n",
    "            test_error_mean,\n",
    "            test_error_stdev,\n",
    "            name\n",
    "        ) = run_n_times(\n",
    "            10,\n",
    "            lambda: split_random_by_percentage_and_theta(percentage, config.theta, config_name),\n",
    "            config,\n",
    "        )\n",
    "\n",
    "        training_error = {\n",
    "            \"name\": f\"{config_name} - {percentage*100}%\",\n",
    "            \"mean\": map_to_percentage([training_error_mean], *range)[0],\n",
    "            \"stdev\": map_to_percentage([training_error_stdev], *range)[0]\n",
    "        }\n",
    "\n",
    "        training_errors.append(training_error)\n",
    "\n",
    "        test_error = {\n",
    "            \"name\": f\"{config_name} - {percentage*100}%\",\n",
    "            \"mean\": map_to_percentage([test_error_mean], *range)[0],\n",
    "            \"stdev\": map_to_percentage([test_error_stdev], *range)[0]\n",
    "        }\n",
    "\n",
    "        test_errors.append(test_error)\n",
    "\n",
    "plot_bars(\n",
    "    [training_error[\"mean\"] for training_error in training_errors],\n",
    "    [training_error[\"stdev\"] for training_error in training_errors],\n",
    "    [training_error[\"name\"] for training_error in training_errors],\n",
    "    \"Error Promedio de Entrenamiento\",\n",
    "    \"Dataset\",\n",
    "    \"Error\"\n",
    ").plot()\n",
    "\n",
    "plot_bars(\n",
    "    [test_error[\"mean\"] for test_error in test_errors],\n",
    "    [test_error[\"stdev\"] for test_error in test_errors],\n",
    "    [test_error[\"name\"] for test_error in test_errors],\n",
    "    \"Error Promedio de Test\",\n",
    "    \"Dataset\",\n",
    "    \"Error\"\n",
    ").plot()\n",
    "\n"
   ]
  },
  {
   "cell_type": "code",
   "execution_count": null,
   "id": "8302f702",
   "metadata": {},
   "outputs": [],
   "source": [
    "# Plot only TANH 90% and LOGISTIC 90% for training\n",
    "test_error_linear90 = [train_error for train_error in training_errors if train_error[\"name\"].startswith('LINEAR - 90')][0]\n",
    "test_error_tanh90 = [train_error for train_error in training_errors if train_error[\"name\"].startswith('TANH - 90')][0]\n",
    "test_error_log90 = [train_error for train_error in training_errors if train_error[\"name\"].startswith('LOGISTIC - 90')][0]\n",
    "\n",
    "plot_bars(\n",
    "    [test_error_linear90[\"mean\"], test_error_tanh90[\"mean\"], test_error_log90[\"mean\"]],\n",
    "    [test_error_linear90[\"stdev\"], test_error_tanh90[\"stdev\"], test_error_log90[\"stdev\"]],\n",
    "    [test_error_linear90[\"name\"], test_error_tanh90[\"name\"], test_error_log90[\"name\"]],\n",
    "    \"Error Promedio de Entrenamiento\",\n",
    "    \"Dataset\",\n",
    "    \"Error\"\n",
    ").plot()"
   ]
  },
  {
   "cell_type": "code",
   "execution_count": null,
   "id": "c8760b75",
   "metadata": {},
   "outputs": [],
   "source": [
    "# Plot training only for each config_name\n",
    "for config_name in configs_names:\n",
    "    plot_bars(\n",
    "        [training_error[\"mean\"] for training_error in training_errors if training_error[\"name\"].startswith(config_name)],\n",
    "        [training_error[\"stdev\"] for training_error in training_errors if training_error[\"name\"].startswith(config_name)],\n",
    "        [training_error[\"name\"] for training_error in training_errors if training_error[\"name\"].startswith(config_name)],\n",
    "        \"Error Promedio de Entrenamiento\",\n",
    "        \"Dataset\",\n",
    "        \"Error\"\n",
    "    ).plot()"
   ]
  },
  {
   "cell_type": "code",
   "execution_count": null,
   "id": "a1ac976c",
   "metadata": {},
   "outputs": [],
   "source": [
    "# Plot together TANH and LOGISTIC for test\n",
    "plot_bars(\n",
    "    [test_error[\"mean\"] for test_error in test_errors if test_error[\"name\"].startswith(\"TANH\") or test_error[\"name\"].startswith(\"LOGISTIC\")],\n",
    "    [test_error[\"stdev\"] for test_error in test_errors if test_error[\"name\"].startswith(\"TANH\") or test_error[\"name\"].startswith(\"LOGISTIC\")],\n",
    "    [test_error[\"name\"] for test_error in test_errors if test_error[\"name\"].startswith(\"TANH\") or test_error[\"name\"].startswith(\"LOGISTIC\")],\n",
    "    \"Error Promedio de Test\",\n",
    "    \"Dataset\",\n",
    "    \"Error\"\n",
    ").plot()"
   ]
  },
  {
   "cell_type": "code",
   "execution_count": null,
   "id": "2d5e7e49",
   "metadata": {},
   "outputs": [],
   "source": [
    "#Plot only the test for TANH or LOGISTIC\n",
    "for config_name in configs_names:\n",
    "    if config_name == \"LINEAR\":\n",
    "        continue\n",
    "    plot_bars(\n",
    "        [test_error[\"mean\"] for test_error in test_errors if test_error[\"name\"].startswith(config_name)],\n",
    "        [test_error[\"stdev\"] for test_error in test_errors if test_error[\"name\"].startswith(config_name)],\n",
    "        [test_error[\"name\"] for test_error in test_errors if test_error[\"name\"].startswith(config_name)],\n",
    "        \"Error Promedio de Test\",\n",
    "        \"Dataset\",\n",
    "        \"Error\"\n",
    "    ).plot()"
   ]
  },
  {
   "cell_type": "code",
   "execution_count": null,
   "id": "533aabeb",
   "metadata": {},
   "outputs": [],
   "source": [
    "# Plot only TANH 90% and LOGISTIC 90% for test\n",
    "test_error_tan90 = [test_error for test_error in test_errors if test_error[\"name\"].startswith('TANH - 90')][0]\n",
    "test_error_log90 = [test_error for test_error in test_errors if test_error[\"name\"].startswith('LOGISTIC - 90')][0]\n",
    "\n",
    "plot_bars(\n",
    "    [test_error_tan90[\"mean\"], test_error_log90[\"mean\"]],\n",
    "    [test_error_tan90[\"stdev\"], test_error_log90[\"stdev\"]],\n",
    "    [test_error_tan90[\"name\"], test_error_log90[\"name\"]],\n",
    "    \"Error Promedio de Test\",\n",
    "    \"Dataset\",\n",
    "    \"Error\"\n",
    ").plot()\n"
   ]
  }
 ],
 "metadata": {
  "kernelspec": {
   "display_name": "Python 3 (ipykernel)",
   "language": "python",
   "name": "python3"
  },
  "language_info": {
   "codemirror_mode": {
    "name": "ipython",
    "version": 3
   },
   "file_extension": ".py",
   "mimetype": "text/x-python",
   "name": "python",
   "nbconvert_exporter": "python",
   "pygments_lexer": "ipython3",
   "version": "3.10.8"
  }
 },
 "nbformat": 4,
 "nbformat_minor": 5
}
