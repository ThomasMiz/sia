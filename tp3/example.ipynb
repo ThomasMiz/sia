{
 "cells": [
  {
   "cell_type": "code",
   "execution_count": null,
   "id": "d6b49c98",
   "metadata": {},
   "outputs": [],
   "source": [
    "import numpy as np\n",
    "from src.perceptron import Perceptron\n",
    "from src import theta_funcs\n",
    "from src.trainer import TrainerConfig, train_perceptron, evaluate_perceptron\n",
    "from src import error_funcs"
   ]
  },
  {
   "cell_type": "code",
   "execution_count": null,
   "id": "f8232a11",
   "metadata": {},
   "outputs": [],
   "source": [
    "dataset = [\n",
    "    np.array([1.1946, 3.8427]),\n",
    "    np.array([0.8788, 1.6595]),\n",
    "    np.array([1.1907, 1.6117]),\n",
    "    np.array([1.4180, 3.8272]),\n",
    "    np.array([0.2032, 1.9208]),\n",
    "    np.array([2.7571, 1.0931]),\n",
    "    np.array([4.7125, 2.8166]),\n",
    "    np.array([3.9392, 1.1032]),\n",
    "    np.array([1.2072, 0.8132]),\n",
    "    np.array([3.4799, 0.9982]),\n",
    "    np.array([0.4763, 0.1020]),\n",
    "]\n",
    "\n",
    "dataset_outputs = [\n",
    "    1,\n",
    "    1,\n",
    "    1,\n",
    "    1,\n",
    "    1,\n",
    "    -1,\n",
    "    -1,\n",
    "    -1,\n",
    "    -1,\n",
    "    -1,\n",
    "    -1,\n",
    "]\n",
    "\n",
    "# Or try a randomly generated lineal dataset! (You will need more epochs tho)\n",
    "# dataset = [np.random.random(2)*15-5 for i in range(100)]\n",
    "# dataset_outputs = [1 if d[1]>=(2*d[0]-4) else -1 for d in dataset]"
   ]
  },
  {
   "cell_type": "code",
   "execution_count": null,
   "id": "5a3fbae1",
   "metadata": {},
   "outputs": [],
   "source": [
    "# Set up the configuration for our training and train the perceptron.\n",
    "# This can also be loaded from a JSON file with TrainerConfig.from_file(\"config.json\")\n",
    "config = TrainerConfig(\n",
    "    error_func=error_funcs.count_nonmatching,\n",
    "    acceptable_error=0,\n",
    "    learning_rate=0.1,\n",
    "    max_epochs=20,\n",
    "    use_batch_increments=False,\n",
    "    print_every=10\n",
    ")"
   ]
  },
  {
   "cell_type": "code",
   "execution_count": null,
   "id": "442db898",
   "metadata": {},
   "outputs": [],
   "source": [
    "# Create our perceptron. Our initial weights will be random numbers in the\n",
    "# range (-1, 1), and we'll specify the simple theta function since we want this\n",
    "# to be a simple perceptron.\n",
    "initial_w = np.random.random(len(dataset[0]) + 1) * 2 - 1\n",
    "perceptron = Perceptron(initial_weights=initial_w, theta_func=theta_funcs.SimpleThetaFunction({}))\n",
    "\n",
    "print(f\"Initialized perceptron with weights: {perceptron.w}\")"
   ]
  },
  {
   "cell_type": "code",
   "execution_count": null,
   "id": "b3a857b6",
   "metadata": {},
   "outputs": [],
   "source": [
    "# Let's evaluate our perceptron before training it. Our error function will be\n",
    "# count_nonmatching, so our error will be the amount of inputs in the dataset\n",
    "# that when evaluated by the perceptron don't give their desired output.\n",
    "error = evaluate_perceptron(perceptron, dataset, dataset_outputs, config.error_func, print_output=True)\n",
    "amount_ok = len(dataset) - error\n",
    "print(f\"Got {round(amount_ok * 100 / len(dataset), 2)}% accuracy initially {'✅' if error==0 else '❌'}\")"
   ]
  },
  {
   "cell_type": "code",
   "execution_count": null,
   "id": "5006058c",
   "metadata": {},
   "outputs": [],
   "source": [
    "# Train!\n",
    "result = train_perceptron(perceptron, dataset, dataset_outputs, config)"
   ]
  },
  {
   "cell_type": "code",
   "execution_count": null,
   "id": "770845a1",
   "metadata": {},
   "outputs": [],
   "source": [
    "# Calculate the error and print the results\n",
    "error = evaluate_perceptron(perceptron, dataset, dataset_outputs, config.error_func, print_output=True)\n",
    "amount_ok = len(dataset) - error\n",
    "\n",
    "print(f\"Got {round(amount_ok * 100 / len(dataset), 2)}% accuracy after {result.epoch_num} epoch{'' if result.epoch_num == 1 else 's'} {'✅' if error==0 else '❌'}\")\n",
    "print(f\"Final weights: {perceptron.w}\")"
   ]
  },
  {
   "cell_type": "code",
   "execution_count": null,
   "id": "5e19d0d9",
   "metadata": {},
   "outputs": [],
   "source": [
    "# Plot the output\n",
    "from src.plotter import plot2d\n",
    "\n",
    "plot2d(perceptron, dataset, dataset_outputs).show()"
   ]
  }
 ],
 "metadata": {
  "kernelspec": {
   "display_name": "Python 3 (ipykernel)",
   "language": "python",
   "name": "python3"
  },
  "language_info": {
   "codemirror_mode": {
    "name": "ipython",
    "version": 3
   },
   "file_extension": ".py",
   "mimetype": "text/x-python",
   "name": "python",
   "nbconvert_exporter": "python",
   "pygments_lexer": "ipython3",
   "version": "3.10.8"
  }
 },
 "nbformat": 4,
 "nbformat_minor": 5
}
