{
 "cells": [
  {
   "cell_type": "code",
   "execution_count": null,
   "metadata": {
    "collapsed": false
   },
   "outputs": [],
   "source": [
    "from src.plotter import plot_bars, plot_arrays\n",
    "import numpy as np\n",
    "from src.optimizers import *\n",
    "from src.perceptron import *\n",
    "from src.trainer import train_multilayer_perceptron, TrainerConfig, evaluate_multilayer_perceptron\n",
    "from src.runner_3b import runner_3b"
   ]
  },
  {
   "cell_type": "code",
   "execution_count": null,
   "metadata": {},
   "outputs": [],
   "source": [
    "'''\n",
    "    Run each optimizer and plot the results\n",
    "'''\n",
    "config = TrainerConfig.from_file(\"ejercicio3-b-config.json\")\n",
    "\n",
    "run_ids_optimizers = ['GradientDescent', 'Momentum']\n",
    "optimizers = [GradientDescent(), Momentum()]\n",
    "results_optimizers = []\n",
    "\n",
    "for i in range(len(run_ids_optimizers)):\n",
    "    result = runner_3b(run_ids_optimizers[i], optimizers[i], config)\n",
    "    results_optimizers.append(result)"
   ]
  },
  {
   "cell_type": "code",
   "execution_count": null,
   "metadata": {},
   "outputs": [],
   "source": [
    "'''\n",
    "    Plot error through epochs by optimizer\n",
    "'''\n",
    "plot_arrays(\n",
    "    [result[\"data\"].error_history for result in results_optimizers],\n",
    "    run_ids_optimizers,\n",
    "    'Error through epochs',\n",
    "    'Epochs',\n",
    "    'Error',    \n",
    ")"
   ]
  },
  {
   "cell_type": "code",
   "execution_count": null,
   "metadata": {},
   "outputs": [],
   "source": [
    "'''\n",
    "    GENERALIZATION: Run each optimizer and plot the results\n",
    "'''\n",
    "config = TrainerConfig.from_file(\"ejercicio3-b-config.json\")\n",
    "acceptable_error = 0.1\n",
    "config.acceptable_error = acceptable_error\n",
    "\n",
    "n = 15\n",
    "\n",
    "gradient_means = []\n",
    "gradient_stdev = 0\n",
    "\n",
    "for i in range(n):\n",
    "    result = runner_3b(f\"Gradient {i}\", GradientDescent(), config)\n",
    "    gradient_means.append(result[\"mean_gen\"])\n",
    "\n",
    "gradient_mean = np.mean(gradient_means)\n",
    "gradient_stdev = np.std(gradient_means)\n",
    "\n",
    "momentum_means = []\n",
    "momentum_stdev = 0\n",
    "\n",
    "for i in range(n):\n",
    "    result = runner_3b(f\"Momentum {i}\", Momentum(), config)\n",
    "    momentum_means.append(result[\"mean_gen\"])\n",
    "\n",
    "momentum_mean = np.mean(momentum_means)\n",
    "momentum_stdev = np.std(momentum_means)\n"
   ]
  },
  {
   "cell_type": "code",
   "execution_count": null,
   "metadata": {},
   "outputs": [],
   "source": [
    "\"\"\"\n",
    "    Generalization: Average error by optimizer at the end of the training\n",
    "\"\"\"\n",
    "\n",
    "plot_bars(\n",
    "    [gradient_mean, momentum_mean],\n",
    "    [gradient_stdev, momentum_stdev],\n",
    "    [\"Gradient\", \"Momentum\"],\n",
    "    \"Average error at the end of the training\",\n",
    "    \"Optimizer\",\n",
    "    \"Error\",\n",
    ")"
   ]
  },
  {
   "cell_type": "code",
   "execution_count": null,
   "metadata": {},
   "outputs": [],
   "source": [
    "'''\n",
    "    Run each learning rate and plot the results with GradientDescent optimizer\n",
    "'''\n",
    "config = TrainerConfig.from_file(\"ejercicio3-c-config.json\")\n",
    "\n",
    "run_ids_gd_lr = ['10^-1', '10^-2', '10^-3']\n",
    "learning_rates = [0.1, 0.01, 0.001]\n",
    "results_gd_lr = []\n",
    "\n",
    "for i in range(len(run_ids_gd_lr)):\n",
    "    config.learning_rate = learning_rates[i]\n",
    "    result = runner_3b(run_ids_gd_lr[i], GradientDescent(), config)\n",
    "    results_gd_lr.append(result)"
   ]
  },
  {
   "cell_type": "code",
   "execution_count": null,
   "metadata": {},
   "outputs": [],
   "source": [
    "'''\n",
    "    plot the results with GradientDescent optimizer\n",
    "'''\n",
    "plot_arrays(\n",
    "    [result[\"data\"].error_history for result in results_gd_lr],\n",
    "    run_ids_gd_lr,\n",
    "    'Error through epochs',\n",
    "    'Epochs',\n",
    "    'Error',    \n",
    ")"
   ]
  },
  {
   "cell_type": "code",
   "execution_count": null,
   "metadata": {},
   "outputs": [],
   "source": [
    "'''\n",
    "    Run each learning rate and plot the results with Momentum optimizer\n",
    "'''\n",
    "config = TrainerConfig.from_file(\"ejercicio3-c-config.json\")\n",
    "\n",
    "run_ids_momentum_lr = ['10^-1', '10^-2', '10^-3']\n",
    "learning_rates = [0.1, 0.01, 0.001]\n",
    "results_momentum_lr = []\n",
    "\n",
    "for i in range(len(run_ids_momentum_lr)):\n",
    "    config.learning_rate = learning_rates[i]\n",
    "    result = runner_3b(run_ids_momentum_lr[i], GradientDescent(), config)\n",
    "    results_momentum_lr.append(result)"
   ]
  },
  {
   "cell_type": "code",
   "execution_count": null,
   "metadata": {},
   "outputs": [],
   "source": [
    "'''\n",
    "    plot the results with GradientDescent optimizer\n",
    "'''\n",
    "plot_arrays(\n",
    "    [result[\"data\"].error_history for result in results_momentum_lr],\n",
    "    run_ids_momentum_lr,\n",
    "    'Error through epochs',\n",
    "    'Epochs',\n",
    "    'Error',    \n",
    ")"
   ]
  }
 ],
 "metadata": {
  "kernelspec": {
   "display_name": "Python 3",
   "language": "python",
   "name": "python3"
  },
  "language_info": {
   "codemirror_mode": {
    "name": "ipython",
    "version": 3
   },
   "file_extension": ".py",
   "mimetype": "text/x-python",
   "name": "python",
   "nbconvert_exporter": "python",
   "pygments_lexer": "ipython3",
   "version": "3.10.11"
  },
  "orig_nbformat": 4
 },
 "nbformat": 4,
 "nbformat_minor": 2
}
