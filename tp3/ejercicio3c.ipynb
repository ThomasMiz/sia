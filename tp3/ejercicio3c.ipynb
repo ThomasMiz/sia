{
 "cells": [
  {
   "cell_type": "code",
   "execution_count": null,
   "metadata": {
    "collapsed": false
   },
   "outputs": [],
   "source": [
    "from src.plotter import plot_bars, plot_arrays\n",
    "import numpy as np\n",
    "from src.optimizers import *\n",
    "from src.perceptron import *\n",
    "from src.trainer import train_multilayer_perceptron, TrainerConfig, evaluate_multilayer_perceptron\n",
    "from src.runner_3c import run_by_optimizer"
   ]
  },
  {
   "cell_type": "code",
   "execution_count": null,
   "metadata": {},
   "outputs": [],
   "source": [
    "'''\n",
    "    Run each optimizer and plot the results\n",
    "'''\n",
    "config = TrainerConfig.from_file(\"ejercicio3-c-config.json\")\n",
    "\n",
    "run_ids_optimizers = ['GradientDescent', 'Momentum']\n",
    "optimizers = [GradientDescent(), Momentum()]\n",
    "results_optimizers = []\n",
    "\n",
    "for i in range(len(run_ids_optimizers)):\n",
    "    result = run_by_optimizer(run_ids_optimizers[i], optimizers[i], config)\n",
    "    results_optimizers.append(result)"
   ]
  },
  {
   "cell_type": "code",
   "execution_count": null,
   "metadata": {},
   "outputs": [],
   "source": [
    "'''\n",
    "    Plot error through epochs by optimizer\n",
    "'''\n",
    "plot_arrays(\n",
    "    [result[\"data\"].error_history for result in results_optimizers],\n",
    "    run_ids_optimizers,\n",
    "    'Error through epochs',\n",
    "    'Epochs',\n",
    "    'Error',    \n",
    ")"
   ]
  },
  {
   "cell_type": "code",
   "execution_count": null,
   "metadata": {},
   "outputs": [],
   "source": [
    "'''\n",
    "    LEARNING: Average error by optimizer at the end of the training\n",
    "'''\n",
    "\n",
    "plot_bars(\n",
    "    [result[\"mean_gen\"] for result in results_optimizers],\n",
    "    None,\n",
    "    run_ids_optimizers,\n",
    "    'Average error at the end of the training',\n",
    "    'Optimizer',\n",
    "    'Error',\n",
    ")"
   ]
  },
  {
   "cell_type": "code",
   "execution_count": null,
   "metadata": {},
   "outputs": [],
   "source": [
    "'''\n",
    "    Run each learning rate and plot the results with GradientDescent optimizer\n",
    "'''\n",
    "config = TrainerConfig.from_file(\"ejercicio3-c-config.json\")\n",
    "\n",
    "run_ids_gd_lr = ['10^-1', '10^-2', '10^-3']\n",
    "learning_rates = [0.1, 0.01, 0.001]\n",
    "results_gd_lr = []\n",
    "\n",
    "for i in range(len(run_ids_gd_lr)):\n",
    "    config.learning_rate = learning_rates[i]\n",
    "    result = run_by_optimizer(run_ids_gd_lr[i], GradientDescent(), config)\n",
    "    results_gd_lr.append(result)"
   ]
  },
  {
   "cell_type": "code",
   "execution_count": null,
   "metadata": {},
   "outputs": [],
   "source": [
    "'''\n",
    "    plot the results with GradientDescent optimizer\n",
    "'''\n",
    "plot_arrays(\n",
    "    [result[\"data\"].error_history for result in results_gd_lr],\n",
    "    run_ids_gd_lr,\n",
    "    'Error through epochs',\n",
    "    'Epochs',\n",
    "    'Error',    \n",
    ")"
   ]
  },
  {
   "cell_type": "code",
   "execution_count": null,
   "metadata": {},
   "outputs": [],
   "source": [
    "'''\n",
    "    Run each learning rate and plot the results with Momentum optimizer\n",
    "'''\n",
    "config = TrainerConfig.from_file(\"ejercicio3-c-config.json\")\n",
    "\n",
    "run_ids_momentum_lr = ['10^-1', '10^-2', '10^-3']\n",
    "learning_rates = [0.1, 0.01, 0.001]\n",
    "results_momentum_lr = []\n",
    "\n",
    "for i in range(len(run_ids_momentum_lr)):\n",
    "    config.learning_rate = learning_rates[i]\n",
    "    result = run_by_optimizer(run_ids_momentum_lr[i], Momentum(), config)\n",
    "    results_momentum_lr.append(result)"
   ]
  },
  {
   "cell_type": "code",
   "execution_count": null,
   "metadata": {},
   "outputs": [],
   "source": [
    "'''\n",
    "    plot the results with Momentum optimizer\n",
    "'''\n",
    "plot_arrays(\n",
    "    [result[\"data\"].error_history for result in results_momentum_lr],\n",
    "    run_ids_momentum_lr,\n",
    "    'Error through epochs',\n",
    "    'Epochs',\n",
    "    'Error',    \n",
    ")"
   ]
  },
  {
   "cell_type": "code",
   "execution_count": null,
   "metadata": {},
   "outputs": [],
   "source": [
    "'''\n",
    "    Run each learning rate and plot the results with Momentum optimizer\n",
    "'''\n",
    "config = TrainerConfig.from_file(\"ejercicio3-c-config.json\")\n",
    "\n",
    "run_ids_momentum_alphas = ['10^-1', '10^-2', '10^-3']\n",
    "alphas = [0.1, 0.01, 0.001]\n",
    "results_momentum_alphas = []\n",
    "\n",
    "for i in range(len(run_ids_momentum_alphas)):\n",
    "    result = run_by_optimizer(run_ids_momentum_alphas[i], Momentum(alphas[i]), config)\n",
    "    results_momentum_alphas.append(result)"
   ]
  },
  {
   "cell_type": "code",
   "execution_count": null,
   "metadata": {},
   "outputs": [],
   "source": [
    "'''\n",
    "    plot the results with Momentum optimizer\n",
    "'''\n",
    "plot_arrays(\n",
    "    [result[\"data\"].error_history for result in results_momentum_alphas],\n",
    "    run_ids_momentum_alphas,\n",
    "    'Error through epochs',\n",
    "    'Epochs',\n",
    "    'Error',    \n",
    ")"
   ]
  },
  {
   "cell_type": "code",
   "execution_count": null,
   "metadata": {},
   "outputs": [],
   "source": [
    "'''\n",
    "    GENERALIZATION: Run each optimizer and plot the results\n",
    "'''\n",
    "config = TrainerConfig.from_file(\"ejercicio3-c-config.json\")\n",
    "config.max_epochs = 1500\n",
    "\n",
    "n = 5\n",
    "\n",
    "gradient_means = []\n",
    "gradient_stdev = 0\n",
    "\n",
    "# run until we have n results with converged training\n",
    "while len(gradient_means) < n:\n",
    "    result = run_by_optimizer(f\"Gradient {len(gradient_means)}\", GradientDescent(), config)\n",
    "    if result[\"has_converged\"]:\n",
    "        print(f\"Gradient {len(gradient_means)} has converged\")\n",
    "        gradient_means.append(result[\"mean_gen\"])\n",
    "\n",
    "gradient_mean = np.mean(gradient_means)\n",
    "gradient_stdev = np.std(gradient_means)\n",
    "\n",
    "momentum_means = []\n",
    "momentum_stdev = 0\n",
    "\n",
    "# run until we have n results with converged training\n",
    "while len(momentum_means) < n:\n",
    "    result = run_by_optimizer(f\"Momentum {len(momentum_means)}\", Momentum(), config)\n",
    "    if result[\"has_converged\"]:\n",
    "        print(f\"Momentum {len(momentum_means)} has converged\")\n",
    "        momentum_means.append(result[\"mean_gen\"])\n",
    "\n",
    "momentum_mean = np.mean(momentum_means)\n",
    "momentum_stdev = np.std(momentum_means)"
   ]
  },
  {
   "cell_type": "code",
   "execution_count": null,
   "metadata": {},
   "outputs": [],
   "source": [
    "\"\"\"\n",
    "    Generalization: Average error by optimizer at the end of the training\n",
    "\"\"\"\n",
    "\n",
    "plot_bars(\n",
    "    [gradient_mean, momentum_mean],\n",
    "    [gradient_stdev, momentum_stdev],\n",
    "    [\"Gradient\", \"Momentum\"],\n",
    "    \"Average error at the end of the training\",\n",
    "    \"Optimizer\",\n",
    "    \"Error\",\n",
    ")"
   ]
  }
 ],
 "metadata": {
  "kernelspec": {
   "display_name": "Python 3",
   "language": "python",
   "name": "python3"
  },
  "language_info": {
   "codemirror_mode": {
    "name": "ipython",
    "version": 3
   },
   "file_extension": ".py",
   "mimetype": "text/x-python",
   "name": "python",
   "nbconvert_exporter": "python",
   "pygments_lexer": "ipython3",
   "version": "3.10.11"
  },
  "orig_nbformat": 4
 },
 "nbformat": 4,
 "nbformat_minor": 2
}
