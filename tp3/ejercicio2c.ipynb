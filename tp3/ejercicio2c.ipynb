{
 "cells": [
  {
   "cell_type": "code",
   "execution_count": null,
   "id": "d6b49c98",
   "metadata": {
    "ExecuteTime": {
     "end_time": "2023-05-02T19:45:33.890203Z",
     "start_time": "2023-05-02T19:45:33.658805Z"
    }
   },
   "outputs": [],
   "source": [
    "import numpy as np\n",
    "from src.perceptron import Perceptron\n",
    "from src.trainer import TrainerConfig, train_perceptron, evaluate_perceptron, Scaler\n",
    "from src.readers import read_csv\n",
    "from src.plotter import plot_arrays, plot_bars\n",
    "from src.theta_funcs import ThetaFunction\n",
    "from src.error_funcs import cost_average\n",
    "from src.dataset_selectors import (\n",
    "    split_random_by_percentage,\n",
    "    handpick_diverse_training_dataset,\n",
    ")\n",
    "from src.runner import run_iteration"
   ]
  },
  {
   "cell_type": "code",
   "execution_count": null,
   "id": "65db6ba0",
   "metadata": {},
   "outputs": [],
   "source": [
    "dataset, dataset_outputs = read_csv(\"TP3-ej2-conjunto.csv\")\n",
    "config_tanh = TrainerConfig.from_file(\"ejercicio2-tanh-config.json\")\n",
    "config_logistic = TrainerConfig.from_file(\"ejercicio2-logistic-config.json\")\n",
    "\n",
    "\n",
    "def build_datasets_training_and_test(dataset, dataset_outputs, indexes, config: TrainerConfig):\n",
    "    training_dataset = []\n",
    "    training_dataset_outputs = []\n",
    "    test_dataset = []\n",
    "    test_dataset_outputs = []\n",
    "\n",
    "    for i in range(len(dataset)):\n",
    "        if i in indexes:\n",
    "            training_dataset.append(dataset[i])\n",
    "            training_dataset_outputs.append(config.scaler.scale(dataset_outputs[i]))\n",
    "        else:\n",
    "            test_dataset.append(dataset[i])\n",
    "            test_dataset_outputs.append(config.scaler.scale(dataset_outputs[i]))\n",
    "\n",
    "    return (\n",
    "        training_dataset,\n",
    "        training_dataset_outputs,\n",
    "        test_dataset,\n",
    "        test_dataset_outputs,\n",
    "    )\n",
    "\n",
    "\n",
    "fold_1_indexes = [2, 11, 13, 16, 17, 20, 24]\n",
    "fold_2_indexes = [1, 3, 14, 18, 19, 25, 27]\n",
    "fold_3_indexes = [0, 4, 6, 10, 12, 15, 23]\n",
    "fold_4_indexes = [5, 7, 8, 9, 21, 22, 26]"
   ]
  },
  {
   "cell_type": "code",
   "execution_count": null,
   "id": "0b09036c",
   "metadata": {},
   "outputs": [],
   "source": [
    "training_indexes = fold_1_indexes + fold_2_indexes + fold_3_indexes\n",
    "\n",
    "(\n",
    "    training_dataset,\n",
    "    training_dataset_outputs,\n",
    "    test_dataset,\n",
    "    test_dataset_outputs,\n",
    ") = build_datasets_training_and_test(dataset, dataset_outputs, training_indexes, config_tanh)\n",
    "\n",
    "result = run_iteration(\n",
    "    training_dataset,\n",
    "    training_dataset_outputs,\n",
    "    test_dataset,\n",
    "    test_dataset_outputs,\n",
    "    config_tanh,\n",
    ")"
   ]
  },
  {
   "cell_type": "code",
   "execution_count": null,
   "id": "5a8c933f",
   "metadata": {},
   "outputs": [],
   "source": [
    "plot_arrays(\n",
    "    [result.result.error_history, result.test_error_history],\n",
    "    [\"Error de entrenamiento\", \"Error de test\"],\n",
    "    f\"Error de entrenamiento y test TANH\",\n",
    "    \"Epocas\",\n",
    "    \"Error\",\n",
    ")\n",
    "\n",
    "print(f\"Error de entrenamiento: {result.training_error}\")\n",
    "print(f\"Error de test: {result.test_error}\")"
   ]
  },
  {
   "cell_type": "code",
   "execution_count": null,
   "id": "7aaba809",
   "metadata": {},
   "outputs": [],
   "source": [
    "training_indexes = fold_1_indexes + fold_2_indexes + fold_4_indexes\n",
    "\n",
    "(\n",
    "    training_dataset,\n",
    "    training_dataset_outputs,\n",
    "    test_dataset,\n",
    "    test_dataset_outputs,\n",
    ") = build_datasets_training_and_test(dataset, dataset_outputs, training_indexes, config_tanh)\n",
    "\n",
    "result = run_iteration(\n",
    "    training_dataset,\n",
    "    training_dataset_outputs,\n",
    "    test_dataset,\n",
    "    test_dataset_outputs,\n",
    "    config_tanh,\n",
    ")"
   ]
  },
  {
   "cell_type": "code",
   "execution_count": null,
   "id": "e085c63b",
   "metadata": {},
   "outputs": [],
   "source": [
    "plot_arrays(\n",
    "    [result.result.error_history, result.test_error_history],\n",
    "    [\"Error de entrenamiento\", \"Error de test\"],\n",
    "    f\"Error de entrenamiento y test TANH\",\n",
    "    \"Epocas\",\n",
    "    \"Error\",\n",
    ")\n",
    "\n",
    "print(f\"Error de entrenamiento: {result.training_error}\")\n",
    "print(f\"Error de test: {result.test_error}\")"
   ]
  },
  {
   "cell_type": "code",
   "execution_count": null,
   "id": "ba990129",
   "metadata": {},
   "outputs": [],
   "source": [
    "training_indexes = fold_1_indexes + fold_3_indexes + fold_4_indexes\n",
    "\n",
    "(\n",
    "    training_dataset,\n",
    "    training_dataset_outputs,\n",
    "    test_dataset,\n",
    "    test_dataset_outputs,\n",
    ") = build_datasets_training_and_test(dataset, dataset_outputs, training_indexes, config_tanh)\n",
    "\n",
    "result = run_iteration(\n",
    "    training_dataset,\n",
    "    training_dataset_outputs,\n",
    "    test_dataset,\n",
    "    test_dataset_outputs,\n",
    "    config_tanh,\n",
    ")"
   ]
  },
  {
   "cell_type": "code",
   "execution_count": null,
   "id": "54460318",
   "metadata": {},
   "outputs": [],
   "source": [
    "plot_arrays(\n",
    "    [result.result.error_history, result.test_error_history],\n",
    "    [\"Error de entrenamiento\", \"Error de test\"],\n",
    "    f\"Error de entrenamiento y test TANH\",\n",
    "    \"Epocas\",\n",
    "    \"Error\",\n",
    ")\n",
    "\n",
    "print(f\"Error de entrenamiento: {result.training_error}\")\n",
    "print(f\"Error de test: {result.test_error}\")"
   ]
  },
  {
   "cell_type": "code",
   "execution_count": null,
   "id": "9aee5abe",
   "metadata": {},
   "outputs": [],
   "source": [
    "training_indexes = fold_2_indexes + fold_3_indexes + fold_4_indexes\n",
    "\n",
    "(\n",
    "    training_dataset,\n",
    "    training_dataset_outputs,\n",
    "    test_dataset,\n",
    "    test_dataset_outputs,\n",
    ") = build_datasets_training_and_test(dataset, dataset_outputs, training_indexes, config_tanh)\n",
    "\n",
    "result = run_iteration(\n",
    "    training_dataset,\n",
    "    training_dataset_outputs,\n",
    "    test_dataset,\n",
    "    test_dataset_outputs,\n",
    "    config_tanh,\n",
    ")\n"
   ]
  },
  {
   "cell_type": "code",
   "execution_count": null,
   "id": "2098f528",
   "metadata": {},
   "outputs": [],
   "source": [
    "plot_arrays(\n",
    "    [result.result.error_history, result.test_error_history],\n",
    "    [\"Error de entrenamiento\", \"Error de test\"],\n",
    "    f\"Error de entrenamiento y test TANH\",\n",
    "    \"Epocas\",\n",
    "    \"Error\",\n",
    ")\n",
    "\n",
    "print(f\"Error de entrenamiento: {result.training_error}\")\n",
    "print(f\"Error de test: {result.test_error}\")"
   ]
  },
  {
   "cell_type": "code",
   "execution_count": null,
   "id": "578fbce4",
   "metadata": {},
   "outputs": [],
   "source": [
    "fold_34_indexes = fold_3_indexes[:4] + fold_4_indexes[4:]\n",
    "fold_43_indexes = fold_4_indexes[:4] + fold_3_indexes[4:]"
   ]
  },
  {
   "cell_type": "code",
   "execution_count": null,
   "id": "436ef6dc",
   "metadata": {},
   "outputs": [],
   "source": [
    "training_indexes = fold_1_indexes + fold_2_indexes + fold_34_indexes\n",
    "\n",
    "(\n",
    "    training_dataset,\n",
    "    training_dataset_outputs,\n",
    "    test_dataset,\n",
    "    test_dataset_outputs,\n",
    ") = build_datasets_training_and_test(dataset, dataset_outputs, training_indexes, config_tanh)\n",
    "\n",
    "result = run_iteration(\n",
    "    training_dataset,\n",
    "    training_dataset_outputs,\n",
    "    test_dataset,\n",
    "    test_dataset_outputs,\n",
    "    config_tanh,\n",
    ")"
   ]
  },
  {
   "cell_type": "code",
   "execution_count": null,
   "id": "b65ab74e",
   "metadata": {},
   "outputs": [],
   "source": [
    "plot_arrays(\n",
    "    [result.result.error_history, result.test_error_history],\n",
    "    [\"Error de entrenamiento\", \"Error de test\"],\n",
    "    f\"Error de entrenamiento y test TANH\",\n",
    "    \"Epocas\",\n",
    "    \"Error\",\n",
    ")\n",
    "\n",
    "print(f\"Error de entrenamiento: {result.training_error}\")\n",
    "print(f\"Error de test: {result.test_error}\")"
   ]
  },
  {
   "cell_type": "code",
   "execution_count": null,
   "id": "db404685",
   "metadata": {},
   "outputs": [],
   "source": [
    "training_indexes = fold_1_indexes + fold_2_indexes + fold_43_indexes\n",
    "\n",
    "(\n",
    "    training_dataset,\n",
    "    training_dataset_outputs,\n",
    "    test_dataset,\n",
    "    test_dataset_outputs,\n",
    ") = build_datasets_training_and_test(dataset, dataset_outputs, training_indexes, config_tanh)\n",
    "\n",
    "result = run_iteration(\n",
    "    training_dataset,\n",
    "    training_dataset_outputs,\n",
    "    test_dataset,\n",
    "    test_dataset_outputs,\n",
    "    config_tanh,\n",
    ")"
   ]
  },
  {
   "cell_type": "code",
   "execution_count": null,
   "id": "f2d2e989",
   "metadata": {},
   "outputs": [],
   "source": [
    "plot_arrays(\n",
    "    [result.result.error_history, result.test_error_history],\n",
    "    [\"Error de entrenamiento\", \"Error de test\"],\n",
    "    f\"Error de entrenamiento y test TANH\",\n",
    "    \"Epocas\",\n",
    "    \"Error\",\n",
    ")\n",
    "\n",
    "print(f\"Error de entrenamiento: {result.training_error}\")\n",
    "print(f\"Error de test: {result.test_error}\")"
   ]
  },
  {
   "cell_type": "code",
   "execution_count": null,
   "id": "333e2521",
   "metadata": {},
   "outputs": [],
   "source": [
    "training_indexes = fold_1_indexes + fold_2_indexes + [fold_4_indexes[2]] + [fold_4_indexes[4]] + fold_3_indexes\n",
    "\n",
    "(\n",
    "    training_dataset,\n",
    "    training_dataset_outputs,\n",
    "    test_dataset,\n",
    "    test_dataset_outputs,\n",
    ") = build_datasets_training_and_test(dataset, dataset_outputs, training_indexes, config_tanh)\n",
    "\n",
    "result = run_iteration(\n",
    "    training_dataset,\n",
    "    training_dataset_outputs,\n",
    "    test_dataset,\n",
    "    test_dataset_outputs,\n",
    "    config_tanh,\n",
    ")"
   ]
  },
  {
   "cell_type": "code",
   "execution_count": null,
   "id": "053164b8",
   "metadata": {},
   "outputs": [],
   "source": [
    "plot_arrays(\n",
    "    [result.result.error_history, result.test_error_history],\n",
    "    [\"Error de entrenamiento\", \"Error de test\"],\n",
    "    f\"Error de entrenamiento y test TANH\",\n",
    "    \"Epocas\",\n",
    "    \"Error\",\n",
    ")\n",
    "\n",
    "print(f\"Error de entrenamiento: {result.training_error}\")\n",
    "print(f\"Error de test: {result.test_error}\")"
   ]
  },
  {
   "cell_type": "code",
   "execution_count": null,
   "id": "55aa5f7f",
   "metadata": {},
   "outputs": [],
   "source": [
    "fold_big_indexes = [11,14,10,5,19,6,18,13,2,22,4,24,7,0,25,16,26,9,15,1,27]\n",
    "\n",
    "(\n",
    "    training_dataset,\n",
    "    training_dataset_outputs,\n",
    "    test_dataset,\n",
    "    test_dataset_outputs,\n",
    ") = build_datasets_training_and_test(dataset, dataset_outputs, fold_big_indexes, config_tanh)\n",
    "\n",
    "result = run_iteration(\n",
    "    training_dataset,\n",
    "    training_dataset_outputs,\n",
    "    test_dataset,\n",
    "    test_dataset_outputs,\n",
    "    config_tanh,\n",
    ")"
   ]
  },
  {
   "cell_type": "code",
   "execution_count": null,
   "id": "3379076b",
   "metadata": {},
   "outputs": [],
   "source": [
    "plot_arrays(\n",
    "    [result.result.error_history, result.test_error_history],\n",
    "    [\"Error de entrenamiento\", \"Error de test\"],\n",
    "    f\"Error de entrenamiento y test TANH\",\n",
    "    \"Epocas\",\n",
    "    \"Error\",\n",
    ")\n",
    "\n",
    "print(f\"Error de entrenamiento: {result.training_error}\")\n",
    "print(f\"Error de test: {result.test_error}\")"
   ]
  },
  {
   "cell_type": "code",
   "execution_count": null,
   "id": "6fa3f359",
   "metadata": {},
   "outputs": [],
   "source": [
    "fold_small_indexes = [13,2,22,4,24,7,0,25,16,26,9,15,1,27,12,3,8,17,20,23,21]\n",
    "\n",
    "(\n",
    "    training_dataset,\n",
    "    training_dataset_outputs,\n",
    "    test_dataset,\n",
    "    test_dataset_outputs,\n",
    ") = build_datasets_training_and_test(dataset, dataset_outputs, fold_small_indexes, config_tanh)\n",
    "\n",
    "result = run_iteration(\n",
    "    training_dataset,\n",
    "    training_dataset_outputs,\n",
    "    test_dataset,\n",
    "    test_dataset_outputs,\n",
    "    config_tanh,\n",
    ")"
   ]
  },
  {
   "cell_type": "code",
   "execution_count": null,
   "id": "debb731f",
   "metadata": {},
   "outputs": [],
   "source": [
    "plot_arrays(\n",
    "    [result.result.error_history, result.test_error_history],\n",
    "    [\"Error de entrenamiento\", \"Error de test\"],\n",
    "    f\"Error de entrenamiento y test TANH\",\n",
    "    \"Epocas\",\n",
    "    \"Error\",\n",
    ")\n",
    "\n",
    "print(f\"Error de entrenamiento: {result.training_error}\")\n",
    "print(f\"Error de test: {result.test_error}\")"
   ]
  },
  {
   "cell_type": "code",
   "execution_count": null,
   "id": "0c913485",
   "metadata": {},
   "outputs": [],
   "source": [
    "fold_big_indexes = [11,14,10,5,19,6,18,13,2,22,4,24,7,0,25,16,26,9,15,1,27]\n",
    "\n",
    "config_tanh.max_epochs = 1200\n",
    "\n",
    "(\n",
    "    training_dataset,\n",
    "    training_dataset_outputs,\n",
    "    test_dataset,\n",
    "    test_dataset_outputs,\n",
    ") = build_datasets_training_and_test(dataset, dataset_outputs, fold_big_indexes, config_tanh)\n",
    "\n",
    "result = run_iteration(\n",
    "    training_dataset,\n",
    "    training_dataset_outputs,\n",
    "    test_dataset,\n",
    "    test_dataset_outputs,\n",
    "    config_tanh,\n",
    ")"
   ]
  },
  {
   "cell_type": "code",
   "execution_count": null,
   "id": "8c0b7220",
   "metadata": {},
   "outputs": [],
   "source": [
    "plot_arrays(\n",
    "    [result.result.error_history, result.test_error_history],\n",
    "    [\"Error de entrenamiento\", \"Error de test\"],\n",
    "    f\"Error de entrenamiento y test TANH\",\n",
    "    \"Epocas\",\n",
    "    \"Error\",\n",
    ")\n",
    "\n",
    "print(f\"Error de entrenamiento: {result.training_error}\")\n",
    "print(f\"Error de test: {result.test_error}\")"
   ]
  }
 ],
 "metadata": {
  "kernelspec": {
   "display_name": "Python 3 (ipykernel)",
   "language": "python",
   "name": "python3"
  },
  "language_info": {
   "codemirror_mode": {
    "name": "ipython",
    "version": 3
   },
   "file_extension": ".py",
   "mimetype": "text/x-python",
   "name": "python",
   "nbconvert_exporter": "python",
   "pygments_lexer": "ipython3",
   "version": "3.10.11"
  }
 },
 "nbformat": 4,
 "nbformat_minor": 5
}
