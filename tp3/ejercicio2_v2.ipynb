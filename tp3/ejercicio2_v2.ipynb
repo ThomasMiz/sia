{
 "cells": [
  {
   "cell_type": "code",
   "execution_count": null,
   "id": "d6b49c98",
   "metadata": {
    "ExecuteTime": {
     "end_time": "2023-05-02T19:45:33.890203Z",
     "start_time": "2023-05-02T19:45:33.658805Z"
    }
   },
   "outputs": [],
   "source": [
    "import numpy as np\n",
    "from src.perceptron import Perceptron\n",
    "from src.trainer import TrainerConfig, train_perceptron, evaluate_perceptron, Scaler\n",
    "from src.readers import read_csv\n",
    "from src.plotter import plot_arrays, plot_bars\n",
    "from src.theta_funcs import ThetaFunction\n",
    "from src.error_funcs import cost_average\n",
    "from src.dataset_selectors import split_random_by_percentage, handpick_diverse_training_dataset\n",
    "from src.runner import run_n_times, run_iteration"
   ]
  },
  {
   "cell_type": "code",
   "execution_count": null,
   "id": "65db6ba0",
   "metadata": {},
   "outputs": [],
   "source": [
    "dataset, dataset_outputs = read_csv('TP3-ej2-conjunto.csv')\n",
    "config_linear = TrainerConfig.from_file(\"ejercicio2-lineal-config.json\")\n",
    "config_tanh = TrainerConfig.from_file(\"ejercicio2-tanh-config.json\")\n",
    "config_logistic = TrainerConfig.from_file(\"ejercicio2-logistic-config.json\")"
   ]
  },
  {
   "cell_type": "code",
   "execution_count": null,
   "id": "b735938e",
   "metadata": {},
   "outputs": [],
   "source": [
    "def split_random_by_percentage_and_theta(percentage: float, theta: ThetaFunction, theta_name: str, config: TrainerConfig):\n",
    "    train_dataset, train_dataset_outputs, test_dataset, test_dataset_outputs = split_random_by_percentage(dataset, dataset_outputs, percentage)\n",
    "\n",
    "    if(theta_name != \"lineal\"):\n",
    "        train_dataset_outputs = config.scaler.scale(train_dataset_outputs)\n",
    "        test_dataset_outputs = config.scaler.scale(test_dataset_outputs)\n",
    "    name = f\"{percentage*100}% Training {100-percentage*100}% Test para theta {theta_name}\"\n",
    "    \n",
    "    return train_dataset, train_dataset_outputs, test_dataset, test_dataset_outputs, name\n",
    "\n",
    "def split_handpicked_by_theta(theta: ThetaFunction, theta_name: str, config: TrainerConfig):\n",
    "    train_dataset, train_dataset_outputs, test_dataset, test_dataset_outputs = handpick_diverse_training_dataset(dataset, dataset_outputs)\n",
    "\n",
    "    if(theta_name != \"lineal\"):\n",
    "        train_dataset_outputs = config.scaler.scale(train_dataset_outputs)\n",
    "        test_dataset_outputs = config.scaler.scale(test_dataset_outputs)\n",
    "        name = f\"Handpick para theta {theta_name}\"\n",
    "    \n",
    "    return train_dataset, train_dataset_outputs, test_dataset, test_dataset_outputs, name"
   ]
  },
  {
   "cell_type": "code",
   "execution_count": null,
   "id": "be797e21",
   "metadata": {},
   "outputs": [],
   "source": [
    "''' \n",
    "    Evaluamos la capacidad de Aprendiza Vs. Generalizacion para TANH\n",
    "'''\n",
    "\n",
    "proportions = [0.1, 0.5, 0.9]\n",
    "\n",
    "results = []\n",
    "\n",
    "for proportion in proportions:\n",
    "    (\n",
    "        train_dataset,\n",
    "        train_dataset_outputs,\n",
    "        test_dataset,\n",
    "        test_dataset_outputs,\n",
    "        name,\n",
    "    ) = split_random_by_percentage_and_theta(\n",
    "        proportion, config_tanh.theta, \"tanh\", config_tanh\n",
    "    )\n",
    "\n",
    "    results.append(run_iteration(\n",
    "        train_dataset,\n",
    "        train_dataset_outputs,\n",
    "        test_dataset,\n",
    "        test_dataset_outputs,\n",
    "        config_tanh,\n",
    "    ))"
   ]
  },
  {
   "cell_type": "code",
   "execution_count": null,
   "id": "afb0c135",
   "metadata": {},
   "outputs": [],
   "source": [
    "for i in range(len(proportions)):\n",
    "    train_percentage = proportions[i] * 100\n",
    "    test_percentage = 100 - train_percentage\n",
    "    plot_arrays(\n",
    "        [results[i].result.error_history, results[i].test_error_history],\n",
    "        [\"Error de entrenamiento\", \"Error de test\"],\n",
    "        f\"Error de entrenamiento y test para {train_percentage}% entrenamiento y {test_percentage}% test para TANH\",\n",
    "        \"Epocas\",\n",
    "        \"Error\",\n",
    "    )\n"
   ]
  },
  {
   "cell_type": "code",
   "execution_count": null,
   "id": "7f515d7f",
   "metadata": {},
   "outputs": [],
   "source": [
    "''' \n",
    "    Evaluamos la capacidad de Aprendiza Vs. Generalizacion para TANH\n",
    "'''\n",
    "\n",
    "proportions = [0.75, 0.85, 0.95]\n",
    "\n",
    "results = []\n",
    "\n",
    "for proportion in proportions:\n",
    "    (\n",
    "        train_dataset,\n",
    "        train_dataset_outputs,\n",
    "        test_dataset,\n",
    "        test_dataset_outputs,\n",
    "        name,\n",
    "    ) = split_random_by_percentage_and_theta(\n",
    "        proportion, config_tanh.theta, \"tanh\", config_tanh\n",
    "    )\n",
    "\n",
    "    results.append(run_iteration(\n",
    "        train_dataset,\n",
    "        train_dataset_outputs,\n",
    "        test_dataset,\n",
    "        test_dataset_outputs,\n",
    "        config_tanh,\n",
    "    ))"
   ]
  },
  {
   "cell_type": "code",
   "execution_count": null,
   "id": "260ae428",
   "metadata": {},
   "outputs": [],
   "source": [
    "for i in range(len(proportions)):\n",
    "    train_percentage = proportions[i] * 100\n",
    "    test_percentage = 100 - train_percentage\n",
    "    plot_arrays(\n",
    "        [results[i].result.error_history, results[i].test_error_history],\n",
    "        [\"Error de entrenamiento\", \"Error de test\"],\n",
    "        f\"Error de entrenamiento y test para {train_percentage}% entrenamiento y {test_percentage}% test para TANH\",\n",
    "        \"Epocas\",\n",
    "        \"Error\",\n",
    "    )\n"
   ]
  },
  {
   "cell_type": "code",
   "execution_count": null,
   "id": "865db36d",
   "metadata": {},
   "outputs": [],
   "source": [
    "''' \n",
    "    Evaluamos la capacidad de Aprendiza Vs. Generalizacion para TANH\n",
    "'''\n",
    "\n",
    "proportions = [0.8, 0.85, 0.9, 0.95]\n",
    "\n",
    "results = []\n",
    "\n",
    "for proportion in proportions:\n",
    "    (\n",
    "        train_dataset,\n",
    "        train_dataset_outputs,\n",
    "        test_dataset,\n",
    "        test_dataset_outputs,\n",
    "        name,\n",
    "    ) = split_random_by_percentage_and_theta(\n",
    "        proportion, config_tanh.theta, \"tanh\", config_tanh\n",
    "    )\n",
    "\n",
    "    results.append(run_iteration(\n",
    "        train_dataset,\n",
    "        train_dataset_outputs,\n",
    "        test_dataset,\n",
    "        test_dataset_outputs,\n",
    "        config_tanh,\n",
    "    ))"
   ]
  },
  {
   "cell_type": "code",
   "execution_count": null,
   "id": "6b2cb6e0",
   "metadata": {},
   "outputs": [],
   "source": [
    "for i in range(len(proportions)):\n",
    "    train_percentage = proportions[i] * 100\n",
    "    test_percentage = 100 - train_percentage\n",
    "    plot_arrays(\n",
    "        [results[i].result.error_history, results[i].test_error_history],\n",
    "        [\"Error de entrenamiento\", \"Error de test\"],\n",
    "        f\"Error de entrenamiento y test para {train_percentage}% entrenamiento y {test_percentage}% test para TANH\",\n",
    "        \"Epocas\",\n",
    "        \"Error\",\n",
    "    )"
   ]
  }
 ],
 "metadata": {
  "kernelspec": {
   "display_name": "Python 3 (ipykernel)",
   "language": "python",
   "name": "python3"
  },
  "language_info": {
   "codemirror_mode": {
    "name": "ipython",
    "version": 3
   },
   "file_extension": ".py",
   "mimetype": "text/x-python",
   "name": "python",
   "nbconvert_exporter": "python",
   "pygments_lexer": "ipython3",
   "version": "3.10.11"
  }
 },
 "nbformat": 4,
 "nbformat_minor": 5
}
