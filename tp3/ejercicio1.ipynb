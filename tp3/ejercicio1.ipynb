{
 "cells": [
  {
   "cell_type": "code",
   "execution_count": null,
   "id": "d6b49c98",
   "metadata": {},
   "outputs": [],
   "source": [
    "import numpy as np\n",
    "from src.perceptron import Perceptron\n",
    "import src.theta_funcs as theta_funcs\n",
    "from src.trainer import TrainerConfig, train_perceptron, evaluate_perceptron\n",
    "import src.error_funcs as error_funcs\n",
    "from src.plotter import plot2d"
   ]
  },
  {
   "cell_type": "code",
   "execution_count": null,
   "id": "f8232a11",
   "metadata": {},
   "outputs": [],
   "source": [
    "dataset = [\n",
    "    np.array([1, 1]),\n",
    "    np.array([1, -1]),\n",
    "    np.array([-1, 1]),\n",
    "    np.array([-1, -1]),\n",
    "]\n",
    "\n",
    "dataset_outputs_and = [\n",
    "    1,\n",
    "    -1,\n",
    "    -1,\n",
    "    -1,\n",
    "]\n",
    "\n",
    "dataset_outputs_xor = [\n",
    "    1,\n",
    "    -1,\n",
    "    -1,\n",
    "    1,\n",
    "]\n",
    "\n",
    "config = TrainerConfig.from_file(\"ejercicio1-config.json\")"
   ]
  },
  {
   "cell_type": "code",
   "execution_count": null,
   "id": "b3a857b6",
   "metadata": {},
   "outputs": [],
   "source": [
    "perceptron_and = Perceptron(\n",
    "    initial_weights=np.random.random(len(dataset[0]) + 1) * 2 - 1,\n",
    "    theta_func=theta_funcs.simple\n",
    ")\n",
    "\n",
    "print(f\"Initial weights for AND perceptron: {perceptron_and.w}\")\n",
    "\n",
    "error = evaluate_perceptron(\n",
    "    perceptron=perceptron_and,\n",
    "    dataset=dataset,\n",
    "    dataset_outputs=dataset_outputs_and,\n",
    "    error_func=config.error_func,\n",
    "    print_output=True\n",
    ")\n",
    "\n",
    "amount_ok = len(dataset) - error\n",
    "print(f\"AND perceptron initially has {round(amount_ok * 100 / len(dataset), 2)}% accuracy {'✅' if error==0 else '❌'}\")"
   ]
  },
  {
   "cell_type": "code",
   "execution_count": null,
   "id": "d07d3d0e",
   "metadata": {},
   "outputs": [],
   "source": [
    "result_and = train_perceptron(\n",
    "    perceptron=perceptron_and,\n",
    "    dataset=dataset,\n",
    "    dataset_outputs=dataset_outputs_and,\n",
    "    config=config\n",
    ")"
   ]
  },
  {
   "cell_type": "code",
   "execution_count": null,
   "id": "9e7865a1",
   "metadata": {},
   "outputs": [],
   "source": [
    "error = evaluate_perceptron(\n",
    "    perceptron=perceptron_and,\n",
    "    dataset=dataset,\n",
    "    dataset_outputs=dataset_outputs_and,\n",
    "    error_func=config.error_func,\n",
    "    print_output=True\n",
    ")\n",
    "amount_ok = len(dataset) - error\n",
    "\n",
    "print(f\"AND perceptron after training has {round(amount_ok * 100 / len(dataset), 2)}% accuracy after {result_and.epoch_num} epoch{'' if result_and.epoch_num == 1 else 's'} {'✅' if error==0 else '❌'}\")\n",
    "print(f\"Finished because: {result_and.end_reason.value}\")\n",
    "print(f\"Final weights: {perceptron_and.w}\")"
   ]
  },
  {
   "cell_type": "code",
   "execution_count": null,
   "id": "5a3601a7",
   "metadata": {},
   "outputs": [],
   "source": [
    "plot2d(perceptron_and, dataset, dataset_outputs_and)"
   ]
  },
  {
   "cell_type": "code",
   "execution_count": null,
   "id": "770845a1",
   "metadata": {
    "scrolled": false
   },
   "outputs": [],
   "source": [
    "perceptron_xor = Perceptron(\n",
    "    initial_weights=np.random.random(len(dataset[0]) + 1) * 2 - 1,\n",
    "    theta_func=theta_funcs.simple\n",
    ")\n",
    "\n",
    "print(f\"Initial weights for XOR perceptron: {perceptron_xor.w}\")\n",
    "\n",
    "error = evaluate_perceptron(\n",
    "    perceptron=perceptron_xor,\n",
    "    dataset=dataset,\n",
    "    dataset_outputs=dataset_outputs_xor,\n",
    "    error_func=config.error_func,\n",
    "    print_output=True\n",
    ")\n",
    "\n",
    "amount_ok = len(dataset) - error\n",
    "print(f\"XOR perceptron initially has {round(amount_ok * 100 / len(dataset), 2)}% accuracy {'✅' if error==0 else '❌'}\")"
   ]
  },
  {
   "cell_type": "code",
   "execution_count": null,
   "id": "48d07b45",
   "metadata": {},
   "outputs": [],
   "source": [
    "result_xor = train_perceptron(\n",
    "    perceptron=perceptron_xor,\n",
    "    dataset=dataset,\n",
    "    dataset_outputs=dataset_outputs_xor,\n",
    "    config=config\n",
    ")"
   ]
  },
  {
   "cell_type": "code",
   "execution_count": null,
   "id": "de5279a9",
   "metadata": {},
   "outputs": [],
   "source": [
    "error = evaluate_perceptron(\n",
    "    perceptron=perceptron_xor,\n",
    "    dataset=dataset,\n",
    "    dataset_outputs=dataset_outputs_xor,\n",
    "    error_func=config.error_func,\n",
    "    print_output=True\n",
    ")\n",
    "amount_ok = len(dataset) - error\n",
    "\n",
    "print(f\"XOR perceptron after training has {round(amount_ok * 100 / len(dataset), 2)}% accuracy after {result_xor.epoch_num} epoch{'' if result_xor.epoch_num == 1 else 's'} {'✅' if error==0 else '❌'}\")\n",
    "print(f\"Finished because: {result_xor.end_reason.value}\")\n",
    "print(f\"Final weights: {perceptron_xor.w}\")"
   ]
  },
  {
   "cell_type": "code",
   "execution_count": null,
   "id": "b5704853",
   "metadata": {},
   "outputs": [],
   "source": [
    "plot2d(perceptron_xor, dataset, dataset_outputs_xor)"
   ]
  }
 ],
 "metadata": {
  "kernelspec": {
   "display_name": "Python 3 (ipykernel)",
   "language": "python",
   "name": "python3"
  },
  "language_info": {
   "codemirror_mode": {
    "name": "ipython",
    "version": 3
   },
   "file_extension": ".py",
   "mimetype": "text/x-python",
   "name": "python",
   "nbconvert_exporter": "python",
   "pygments_lexer": "ipython3",
   "version": "3.10.8"
  }
 },
 "nbformat": 4,
 "nbformat_minor": 5
}
