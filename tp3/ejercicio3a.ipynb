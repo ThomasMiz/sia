{
 "cells": [
  {
   "cell_type": "code",
   "execution_count": null,
   "metadata": {
    "collapsed": false
   },
   "outputs": [],
   "source": [
    "from src.runner_3a import run_by_layers\n",
    "from src.trainer import TrainerConfig\n",
    "from src.plotter import plot_bars\n",
    "import numpy as np"
   ]
  },
  {
   "cell_type": "code",
   "execution_count": null,
   "metadata": {},
   "outputs": [],
   "source": [
    "'''\n",
    "    Average Epochs reached on training by multilayer model\n",
    "'''\n",
    "\n",
    "config = TrainerConfig.from_file(\"ejercicio3-a-config.json\")\n",
    "\n",
    "models = [[2, 1], [2, 2, 1], [2, 2, 2, 1]]\n",
    "means_arrays = [[], [], []]\n",
    "n=5\n",
    "\n",
    "means = []\n",
    "stdevs = []\n",
    "labels = [\"2, 1\", \"2, 2, 1\", \"2, 2, 2, 1\"]\n",
    "\n",
    "for i, model in enumerate(models):\n",
    "    while len(means_arrays[i]) < n:\n",
    "        result = run_by_layers(f'model - {len(means_arrays)} - {model} ', model, config)\n",
    "        if result[\"has_converged\"]:\n",
    "            print(f\"Run {result['name']} converged in {result['epochs']} epochs\")\n",
    "            means_arrays[i].append(result['epochs'])\n",
    "    means.append(np.mean(means_arrays[i]))\n",
    "    stdevs.append(np.std(means_arrays[i]))  "
   ]
  },
  {
   "cell_type": "code",
   "execution_count": null,
   "metadata": {},
   "outputs": [],
   "source": [
    "plot_bars(\n",
    "    means,\n",
    "    stdevs,\n",
    "    labels,\n",
    "    \"Average epochs at the end of the training\",\n",
    "    \"Models\",\n",
    "    \"Epochs\",\n",
    ")"
   ]
  }
 ],
 "metadata": {
  "kernelspec": {
   "display_name": "Python 3",
   "language": "python",
   "name": "python3"
  },
  "language_info": {
   "codemirror_mode": {
    "name": "ipython",
    "version": 3
   },
   "file_extension": ".py",
   "mimetype": "text/x-python",
   "name": "python",
   "nbconvert_exporter": "python",
   "pygments_lexer": "ipython3",
   "version": "3.10.11"
  },
  "orig_nbformat": 4
 },
 "nbformat": 4,
 "nbformat_minor": 2
}
