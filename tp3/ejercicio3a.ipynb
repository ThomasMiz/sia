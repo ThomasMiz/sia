{
 "cells": [
  {
   "cell_type": "code",
   "execution_count": 24,
   "metadata": {},
   "outputs": [],
   "source": [
    "import numpy as np\n",
    "from src.perceptron import *\n",
    "from src.trainer import *"
   ]
  },
  {
   "cell_type": "code",
   "execution_count": 25,
   "metadata": {},
   "outputs": [],
   "source": [
    "dataset = [\n",
    "    np.array([1, 1]),\n",
    "    np.array([1, -1]),\n",
    "    np.array([-1, 1]),\n",
    "    np.array([-1, -1]),\n",
    "]\n",
    "\n",
    "dataset_outputs_xor = [\n",
    "    1,\n",
    "    -1,\n",
    "    -1,\n",
    "    1,\n",
    "]"
   ]
  },
  {
   "cell_type": "code",
   "execution_count": 26,
   "metadata": {},
   "outputs": [
    {
     "ename": "NameError",
     "evalue": "name 'perceptron' is not defined",
     "output_type": "error",
     "traceback": [
      "\u001b[1;31m---------------------------------------------------------------------------\u001b[0m",
      "\u001b[1;31mNameError\u001b[0m                                 Traceback (most recent call last)",
      "Cell \u001b[1;32mIn[26], line 8\u001b[0m\n\u001b[0;32m      2\u001b[0m \u001b[39mfor\u001b[39;00m i \u001b[39min\u001b[39;00m \u001b[39mrange\u001b[39m(\u001b[39m0\u001b[39m, \u001b[39m7\u001b[39m):\n\u001b[0;32m      3\u001b[0m     perceptrons\u001b[39m.\u001b[39mappend(Perceptron(\n\u001b[0;32m      4\u001b[0m         initial_weights\u001b[39m=\u001b[39mnp\u001b[39m.\u001b[39mrandom\u001b[39m.\u001b[39mrandom(\u001b[39mlen\u001b[39m(dataset[\u001b[39m0\u001b[39m]) \u001b[39m+\u001b[39m \u001b[39m1\u001b[39m) \u001b[39m*\u001b[39m \u001b[39m2\u001b[39m \u001b[39m-\u001b[39m \u001b[39m1\u001b[39m,\n\u001b[0;32m      5\u001b[0m         theta_func\u001b[39m=\u001b[39m\u001b[39m\"\u001b[39m\u001b[39mtanh\u001b[39m\u001b[39m\"\u001b[39m\n\u001b[0;32m      6\u001b[0m     ))\n\u001b[1;32m----> 8\u001b[0m perceptron_layers\u001b[39m=\u001b[39m[[perceptrons[\u001b[39m0\u001b[39m], perceptrons[\u001b[39m1\u001b[39m]], [perceptrons[\u001b[39m2\u001b[39m], perceptrons[\u001b[39m3\u001b[39m]], [perceptrons[\u001b[39m4\u001b[39m], perceptrons[\u001b[39m5\u001b[39m]], [perceptron[\u001b[39m6\u001b[39m]]]\n\u001b[0;32m     10\u001b[0m multilayer_perceptron_xor \u001b[39m=\u001b[39m MultilayerPerceptron(perceptron_layers)\n\u001b[0;32m     12\u001b[0m config \u001b[39m=\u001b[39m TrainerConfig\u001b[39m.\u001b[39mfrom_file(\u001b[39m\"\u001b[39m\u001b[39mejercicio3-a-config.json\u001b[39m\u001b[39m\"\u001b[39m)\n",
      "\u001b[1;31mNameError\u001b[0m: name 'perceptron' is not defined"
     ]
    }
   ],
   "source": [
    "perceptrons = []\n",
    "for i in range(0, 7):\n",
    "    perceptrons.append(Perceptron(\n",
    "        initial_weights=np.random.random(len(dataset[0]) + 1) * 2 - 1,\n",
    "        theta_func=\"tanh\"\n",
    "    ))\n",
    "\n",
    "perceptron_layers=[[perceptrons[0], perceptrons[1]], [perceptrons[2], perceptrons[3]], [perceptrons[4], perceptrons[5]], [perceptron[6]]]\n",
    "\n",
    "multilayer_perceptron_xor = MultilayerPerceptron(perceptron_layers)\n",
    "\n",
    "config = TrainerConfig.from_file(\"ejercicio3-a-config.json\")"
   ]
  },
  {
   "cell_type": "code",
   "execution_count": null,
   "metadata": {},
   "outputs": [
    {
     "ename": "NameError",
     "evalue": "name 'np' is not defined",
     "output_type": "error",
     "traceback": [
      "\u001b[1;31m---------------------------------------------------------------------------\u001b[0m",
      "\u001b[1;31mNameError\u001b[0m                                 Traceback (most recent call last)",
      "Cell \u001b[1;32mIn[1], line 2\u001b[0m\n\u001b[0;32m      1\u001b[0m dataset \u001b[39m=\u001b[39m [\n\u001b[1;32m----> 2\u001b[0m     np\u001b[39m.\u001b[39marray([\u001b[39m1\u001b[39m, \u001b[39m1\u001b[39m]),\n\u001b[0;32m      3\u001b[0m     np\u001b[39m.\u001b[39marray([\u001b[39m1\u001b[39m, \u001b[39m-\u001b[39m\u001b[39m1\u001b[39m]),\n\u001b[0;32m      4\u001b[0m     np\u001b[39m.\u001b[39marray([\u001b[39m-\u001b[39m\u001b[39m1\u001b[39m, \u001b[39m1\u001b[39m]),\n\u001b[0;32m      5\u001b[0m     np\u001b[39m.\u001b[39marray([\u001b[39m-\u001b[39m\u001b[39m1\u001b[39m, \u001b[39m-\u001b[39m\u001b[39m1\u001b[39m]),\n\u001b[0;32m      6\u001b[0m ]\n\u001b[0;32m      8\u001b[0m dataset_outputs_and \u001b[39m=\u001b[39m [\n\u001b[0;32m      9\u001b[0m     \u001b[39m1\u001b[39m,\n\u001b[0;32m     10\u001b[0m     \u001b[39m-\u001b[39m\u001b[39m1\u001b[39m,\n\u001b[0;32m     11\u001b[0m     \u001b[39m-\u001b[39m\u001b[39m1\u001b[39m,\n\u001b[0;32m     12\u001b[0m     \u001b[39m-\u001b[39m\u001b[39m1\u001b[39m,\n\u001b[0;32m     13\u001b[0m ]\n\u001b[0;32m     15\u001b[0m dataset_outputs_xor \u001b[39m=\u001b[39m [\n\u001b[0;32m     16\u001b[0m     \u001b[39m1\u001b[39m,\n\u001b[0;32m     17\u001b[0m     \u001b[39m-\u001b[39m\u001b[39m1\u001b[39m,\n\u001b[0;32m     18\u001b[0m     \u001b[39m-\u001b[39m\u001b[39m1\u001b[39m,\n\u001b[0;32m     19\u001b[0m     \u001b[39m1\u001b[39m,\n\u001b[0;32m     20\u001b[0m ]\n",
      "\u001b[1;31mNameError\u001b[0m: name 'np' is not defined"
     ]
    }
   ],
   "source": [
    "result_xor = train_multilayerperceptron(\n",
    "    multilayer_perceptron=multilayer_perceptron_xor,\n",
    "    dataset=dataset,\n",
    "    dataset_outputs=dataset_outputs_xor,\n",
    "    config=config\n",
    ")"
   ]
  }
 ],
 "metadata": {
  "kernelspec": {
   "display_name": "Python 3",
   "language": "python",
   "name": "python3"
  },
  "language_info": {
   "codemirror_mode": {
    "name": "ipython",
    "version": 3
   },
   "file_extension": ".py",
   "mimetype": "text/x-python",
   "name": "python",
   "nbconvert_exporter": "python",
   "pygments_lexer": "ipython3",
   "version": "3.10.10"
  },
  "orig_nbformat": 4
 },
 "nbformat": 4,
 "nbformat_minor": 2
}
