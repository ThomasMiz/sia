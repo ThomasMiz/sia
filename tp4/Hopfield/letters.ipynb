{
 "cells": [
  {
   "cell_type": "code",
   "execution_count": null,
   "id": "583ad185",
   "metadata": {},
   "outputs": [],
   "source": [
    "import numpy as np\n",
    "from hopfield import Hopfield\n",
    "from pattern_loader import load_pattern_map, map_reverse_search\n",
    "from printers import print_letter"
   ]
  },
  {
   "cell_type": "code",
   "execution_count": null,
   "id": "9cf1e17f",
   "metadata": {},
   "outputs": [],
   "source": [
    "letter_patterns = load_pattern_map('../letters.txt')\n",
    "letter_size = (5, 5)\n",
    "\n",
    "letters = 'AFJU' # Maybe not the best choice of letters, as J and U are very similar.\n",
    "# letter_query = 'J' # The system correctly identifies this letter as J.\n",
    "letter_query = 'T' # The system identifies this letter as a J (T is not a learnt pattern)\n",
    "# letter_query = 'X' # The system does not identify this letter ==> Spurious state!\n",
    "\n",
    "patterns = []\n",
    "for letter in letters:\n",
    "    patterns.append(letter_patterns[letter])\n",
    "patterns = np.array(patterns)"
   ]
  },
  {
   "cell_type": "code",
   "execution_count": null,
   "id": "166f72c5",
   "metadata": {},
   "outputs": [],
   "source": [
    "net = Hopfield(patterns=patterns)\n",
    "query = letter_patterns[letter_query]"
   ]
  },
  {
   "cell_type": "code",
   "execution_count": null,
   "id": "108d58d6",
   "metadata": {},
   "outputs": [],
   "source": [
    "print(f\"Hopfeld network learned {len(patterns)} patterns: letters {letters}\")\n",
    "print(f\"Querying for letter: {letter_query}\")"
   ]
  },
  {
   "cell_type": "code",
   "execution_count": null,
   "id": "1aa2a505",
   "metadata": {},
   "outputs": [],
   "source": [
    "def printer(s_history, h_history, converged, epochs):\n",
    "    print(f\"Epoch {epochs}: energy {h_history[-1]}\")\n",
    "    print_letter(s_history[-1], letter_size[0])\n",
    "\n",
    "s_history, h_history, converged, epochs = net.evaluate(query=query, max_epochs=20, printer=printer)"
   ]
  },
  {
   "cell_type": "code",
   "execution_count": null,
   "id": "d733cde4",
   "metadata": {},
   "outputs": [],
   "source": [
    "result_letter = map_reverse_search(letter_patterns, s_history[-1])\n",
    "print(f\"{'Done! Converged' if converged else 'Failed to converge'} after {epochs} epochs: (letter {result_letter}) {s_history[-1]}\")"
   ]
  },
  {
   "cell_type": "code",
   "execution_count": null,
   "id": "412684f1",
   "metadata": {},
   "outputs": [],
   "source": [
    "print_letter(s_history[-1], letter_size[0])"
   ]
  }
 ],
 "metadata": {
  "kernelspec": {
   "display_name": "Python 3 (ipykernel)",
   "language": "python",
   "name": "python3"
  },
  "language_info": {
   "codemirror_mode": {
    "name": "ipython",
    "version": 3
   },
   "file_extension": ".py",
   "mimetype": "text/x-python",
   "name": "python",
   "nbconvert_exporter": "python",
   "pygments_lexer": "ipython3",
   "version": "3.10.9"
  }
 },
 "nbformat": 4,
 "nbformat_minor": 5
}
