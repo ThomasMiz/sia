{
 "cells": [
  {
   "cell_type": "code",
   "execution_count": null,
   "id": "583ad185",
   "metadata": {},
   "outputs": [],
   "source": [
    "import numpy as np\n",
    "from hopfield import Hopfield\n",
    "from pattern_loader import load_pattern_map, map_reverse_search\n",
    "from printers import plot_image, plot_image_diff"
   ]
  },
  {
   "cell_type": "code",
   "execution_count": null,
   "id": "9cf1e17f",
   "metadata": {},
   "outputs": [],
   "source": [
    "letter_patterns = load_pattern_map('../letters_big.txt')\n",
    "letter_size = (18, 27)\n",
    "\n",
    "letters = 'AFJU'\n",
    "letter_query = 'J'\n",
    "\n",
    "patterns = []\n",
    "for letter in letters:\n",
    "    patterns.append(letter_patterns[letter])\n",
    "patterns = np.array(patterns)"
   ]
  },
  {
   "cell_type": "code",
   "execution_count": null,
   "id": "166f72c5",
   "metadata": {},
   "outputs": [],
   "source": [
    "net = Hopfield(patterns=patterns)\n",
    "query = letter_patterns[letter_query]"
   ]
  },
  {
   "cell_type": "code",
   "execution_count": null,
   "id": "108d58d6",
   "metadata": {},
   "outputs": [],
   "source": [
    "print(f\"Hopfeld network learned {len(patterns)} patterns: letters {letters}\")\n",
    "print(f\"Querying for letter: {letter_query}\")"
   ]
  },
  {
   "cell_type": "code",
   "execution_count": null,
   "id": "1aa2a505",
   "metadata": {},
   "outputs": [],
   "source": [
    "def printer(s_history, h_history, converged, epochs):\n",
    "    print(f\"Epoch {epochs}: energy {h_history[-1]}\")\n",
    "\n",
    "s_history, h_history, converged, epochs = net.evaluate(query=query, max_epochs=20, printer=printer)"
   ]
  },
  {
   "cell_type": "code",
   "execution_count": null,
   "id": "d733cde4",
   "metadata": {},
   "outputs": [],
   "source": [
    "result_letter = map_reverse_search(letter_patterns, s_history[-1])\n",
    "print(f\"{'Done! Converged' if converged else 'Failed to converge'} after {epochs} epochs: (letter {result_letter})\")\n",
    "plot_image_diff(s_history[-1], letter_patterns[letter_query], letter_size).show()\n",
    "# The system fails to recognize a known pattern! Look at how instead of a J it gave us something in between that and an U:"
   ]
  },
  {
   "cell_type": "code",
   "execution_count": null,
   "id": "30ffe1a0",
   "metadata": {},
   "outputs": [],
   "source": [
    "# Try everything again but remove the 'U' from our known patterns:\n",
    "letters = 'AFJ'\n",
    "letter_query = 'J'\n",
    "\n",
    "patterns = []\n",
    "for letter in letters:\n",
    "    patterns.append(letter_patterns[letter])\n",
    "patterns = np.array(patterns)\n",
    "\n",
    "net = Hopfield(patterns=patterns)\n",
    "query = letter_patterns[letter_query]\n",
    "\n",
    "print(f\"Hopfeld network learned {len(patterns)} patterns: letters {letters}\")\n",
    "print(f\"Querying for letter: {letter_query}\")\n",
    "\n",
    "def printer(s_history, h_history, converged, epochs):\n",
    "    print(f\"Epoch {epochs}: energy {h_history[-1]}\")\n",
    "\n",
    "s_history, h_history, converged, epochs = net.evaluate(query=query, max_epochs=20, printer=printer)"
   ]
  },
  {
   "cell_type": "code",
   "execution_count": null,
   "id": "3252cd9e",
   "metadata": {},
   "outputs": [],
   "source": [
    "result_letter = map_reverse_search(letter_patterns, s_history[-1])\n",
    "print(f\"{'Done! Converged' if converged else 'Failed to converge'} after {epochs} epochs: (letter {result_letter})\")\n",
    "plot_image(s_history[-1], letter_size).show()\n",
    "# The system manages to recognize the pattern:"
   ]
  },
  {
   "cell_type": "code",
   "execution_count": null,
   "id": "4b8a665a",
   "metadata": {},
   "outputs": [],
   "source": [
    "# You can't just increase the amount of neurons to hold more patterns; since all neurons are connected this causes \"noise\"\n",
    "# between themselves, as in, adding more dimentions to the patterns also complicates the energy function by making it more\n",
    "# likely to have minimums in undesired places. Since the system is finding minimums in the energy function, this makes it\n",
    "# less likely for the minimum it finds to correspond to a pattern and not to a spurious state."
   ]
  }
 ],
 "metadata": {
  "kernelspec": {
   "display_name": "Python 3 (ipykernel)",
   "language": "python",
   "name": "python3"
  },
  "language_info": {
   "codemirror_mode": {
    "name": "ipython",
    "version": 3
   },
   "file_extension": ".py",
   "mimetype": "text/x-python",
   "name": "python",
   "nbconvert_exporter": "python",
   "pygments_lexer": "ipython3",
   "version": "3.10.9"
  }
 },
 "nbformat": 4,
 "nbformat_minor": 5
}
