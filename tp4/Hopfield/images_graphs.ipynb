{
 "cells": [
  {
   "cell_type": "code",
   "execution_count": null,
   "id": "583ad185",
   "metadata": {},
   "outputs": [],
   "source": [
    "import numpy as np\n",
    "from hopfield import Hopfield\n",
    "from pattern_loader import load_pattern_map, map_reverse_search\n",
    "from printers import plot_image, plot_image_diff\n",
    "from noise import salt_and_pepper\n",
    "import matplotlib.pyplot as plt"
   ]
  },
  {
   "cell_type": "code",
   "execution_count": null,
   "id": "9cf1e17f",
   "metadata": {},
   "outputs": [],
   "source": [
    "image_patterns = load_pattern_map('../Images/images-50.txt')\n",
    "all_images = [\"bike\", \"bird\", \"bricks\", \"chess\", \"diagonals\", \"piano\", \"pineapple\", \"pothos\", \"snail\", \"tulips\"]\n",
    "image_size = (50, 50)\n",
    "\n",
    "def get_patterns(images):\n",
    "    patterns = []\n",
    "    for image in images:\n",
    "        patterns.append(image_patterns[image])\n",
    "    return np.array(patterns)"
   ]
  },
  {
   "cell_type": "code",
   "execution_count": null,
   "id": "40627e10",
   "metadata": {},
   "outputs": [],
   "source": [
    "# Let's test the system's accuracy in recognizing 'piano' with varying levels of noise:\n",
    "iterations = 1000\n",
    "images = all_images\n",
    "image_query = 'piano'\n",
    "noises = [0.3, 0.35, 0.4, 0.45, 0.5, 0.55, 0.6, 0.65, 0.7, 0.75, 0.8]\n",
    "\n",
    "net = Hopfield(patterns=get_patterns(images))\n",
    "query = image_patterns[image_query]\n",
    "\n",
    "accuracies = []\n",
    "stds = []\n",
    "for n in noises:\n",
    "    successes = 0\n",
    "    for _ in range(iterations):\n",
    "        query = salt_and_pepper(image_patterns[image_query], n, n)\n",
    "        s_history, h_history, converged, epochs = net.evaluate(query=query, max_epochs=20, printer=None)\n",
    "        if np.array_equal(s_history[-1], image_patterns[image_query]):\n",
    "            successes += 1\n",
    "    p = successes / iterations\n",
    "    accuracies.append(p)\n",
    "    stds.append(p*(1-p))\n",
    "    print(f\"Done with noise {n}\")"
   ]
  },
  {
   "cell_type": "code",
   "execution_count": null,
   "id": "8c8d4e8b",
   "metadata": {},
   "outputs": [],
   "source": [
    "plt.title(f'Recognition accuracy of \\'{image_query}\\' over noise after {iterations} iterations')\n",
    "plt.xlabel('Amount of noise')\n",
    "plt.ylabel('Recognition accuracy')\n",
    "plt.errorbar(noises, accuracies, yerr=stds)\n",
    "plt.show()"
   ]
  },
  {
   "cell_type": "code",
   "execution_count": null,
   "id": "09911745",
   "metadata": {},
   "outputs": [],
   "source": [
    "iterations = 1000\n",
    "image_query = 'piano'\n",
    "images = all_images.copy()\n",
    "images.insert(0, images.pop(images.index(image_query)))\n",
    "noise = 0.5\n",
    "\n",
    "accuracies = []\n",
    "stds = []\n",
    "for i in range(len(images)):\n",
    "    net = Hopfield(patterns=get_patterns(images[0:(i+1)]))\n",
    "    \n",
    "    successes = 0\n",
    "    for _ in range(iterations):\n",
    "        query = salt_and_pepper(image_patterns[image_query], noise, noise)\n",
    "        s_history, h_history, converged, epochs = net.evaluate(query=query, max_epochs=20, printer=None)\n",
    "        if np.array_equal(s_history[-1], image_patterns[image_query]):\n",
    "            successes += 1\n",
    "    p = successes / iterations\n",
    "    accuracies.append(p)\n",
    "    stds.append(p*(1-p))\n",
    "    print(f\"Done with count {i+1}/{len(images)}\")"
   ]
  },
  {
   "cell_type": "code",
   "execution_count": null,
   "id": "a62b43cc",
   "metadata": {},
   "outputs": [],
   "source": [
    "plt.title(f'Recognition accuracy of \\'{image_query}\\' with {noise} noise over amout of learnt patterns')\n",
    "plt.xlabel('Amount of learnt patterns')\n",
    "plt.ylabel('Recognition accuracy')\n",
    "plt.grid()\n",
    "plt.errorbar([i for i in range(1, len(images)+1)], accuracies, yerr=stds)\n",
    "plt.show()"
   ]
  },
  {
   "cell_type": "code",
   "execution_count": null,
   "id": "93b2cc8a",
   "metadata": {},
   "outputs": [],
   "source": [
    "iterations = 1000\n",
    "image_query = 'chess'\n",
    "images = all_images.copy()\n",
    "images.insert(0, images.pop(images.index(image_query)))\n",
    "noise = 0.5\n",
    "\n",
    "accuracies = []\n",
    "stds = []\n",
    "for i in range(len(images)):\n",
    "    net = Hopfield(patterns=get_patterns(images[0:(i+1)]))\n",
    "    \n",
    "    successes = 0\n",
    "    for _ in range(iterations):\n",
    "        query = salt_and_pepper(image_patterns[image_query], noise, noise)\n",
    "        s_history, h_history, converged, epochs = net.evaluate(query=query, max_epochs=20, printer=None)\n",
    "        if np.array_equal(s_history[-1], image_patterns[image_query]):\n",
    "            successes += 1\n",
    "    p = successes / iterations\n",
    "    accuracies.append(p)\n",
    "    stds.append(p*(1-p))\n",
    "    print(f\"Done with count {i+1}/{len(images)}\")"
   ]
  },
  {
   "cell_type": "code",
   "execution_count": null,
   "id": "b299a150",
   "metadata": {},
   "outputs": [],
   "source": [
    "plt.title(f'Recognition accuracy of \\'{image_query}\\' with {noise} noise over amout of learnt patterns')\n",
    "plt.xlabel('Amount of learnt patterns')\n",
    "plt.ylabel('Recognition accuracy')\n",
    "plt.grid()\n",
    "plt.errorbar([i for i in range(1, len(images)+1)], accuracies, yerr=stds)\n",
    "plt.show()"
   ]
  }
 ],
 "metadata": {
  "kernelspec": {
   "display_name": "Python 3 (ipykernel)",
   "language": "python",
   "name": "python3"
  },
  "language_info": {
   "codemirror_mode": {
    "name": "ipython",
    "version": 3
   },
   "file_extension": ".py",
   "mimetype": "text/x-python",
   "name": "python",
   "nbconvert_exporter": "python",
   "pygments_lexer": "ipython3",
   "version": "3.10.9"
  }
 },
 "nbformat": 4,
 "nbformat_minor": 5
}
