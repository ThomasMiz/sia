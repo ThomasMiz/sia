{
 "cells": [
  {
   "cell_type": "code",
   "execution_count": null,
   "id": "583ad185",
   "metadata": {},
   "outputs": [],
   "source": [
    "import numpy as np\n",
    "from hopfield import Hopfield\n",
    "from pattern_loader import load_pattern_map, map_reverse_search\n",
    "from printers import plot_image, plot_image_diff\n",
    "from noise import salt_and_pepper"
   ]
  },
  {
   "cell_type": "code",
   "execution_count": null,
   "id": "9cf1e17f",
   "metadata": {},
   "outputs": [],
   "source": [
    "image_patterns = load_pattern_map('../Images/images-50.txt')\n",
    "all_images = [\"bike\", \"bird\", \"bricks\", \"chess\", \"diagonals\", \"piano\", \"pineapple\", \"pothos\", \"snail\", \"tulips\"]\n",
    "image_size = (50, 50)\n",
    "\n",
    "images = all_images\n",
    "image_query = \"piano\"\n",
    "\n",
    "patterns = []\n",
    "for img in images:\n",
    "    patterns.append(image_patterns[img])\n",
    "patterns = np.array(patterns)"
   ]
  },
  {
   "cell_type": "code",
   "execution_count": null,
   "id": "166f72c5",
   "metadata": {},
   "outputs": [],
   "source": [
    "salt_percentage = 0.3\n",
    "pepper_percentage = 0.3\n",
    "\n",
    "net = Hopfield(patterns=patterns)\n",
    "query = salt_and_pepper(image_patterns[image_query], salt_percentage, pepper_percentage)"
   ]
  },
  {
   "cell_type": "code",
   "execution_count": null,
   "id": "108d58d6",
   "metadata": {},
   "outputs": [],
   "source": [
    "print(f\"Hopfeld network learned {len(patterns)} patterns: images {images}\")\n",
    "print(f\"Querying for image: {image_query}\")"
   ]
  },
  {
   "cell_type": "code",
   "execution_count": null,
   "id": "1aa2a505",
   "metadata": {},
   "outputs": [],
   "source": [
    "def printer(s_history, h_history, converged, epochs):\n",
    "    print(f\"Epoch {epochs}: energy {h_history[-1]}\")\n",
    "    plot_image(s_history[-1], image_size).show()\n",
    "\n",
    "s_history, h_history, converged, epochs = net.evaluate(query=query, max_epochs=50, printer=printer)"
   ]
  },
  {
   "cell_type": "code",
   "execution_count": null,
   "id": "d733cde4",
   "metadata": {
    "scrolled": true
   },
   "outputs": [],
   "source": [
    "result_image = map_reverse_search(image_patterns, s_history[-1])\n",
    "print(f\"{'Done! Converged' if converged else 'Failed to converge'} after {epochs} epochs: (image {result_image})\")"
   ]
  },
  {
   "cell_type": "code",
   "execution_count": null,
   "id": "69799086",
   "metadata": {},
   "outputs": [],
   "source": [
    "plot_image_diff(s_history[-1], image_patterns[image_query], image_size).show()"
   ]
  }
 ],
 "metadata": {
  "kernelspec": {
   "display_name": "Python 3 (ipykernel)",
   "language": "python",
   "name": "python3"
  },
  "language_info": {
   "codemirror_mode": {
    "name": "ipython",
    "version": 3
   },
   "file_extension": ".py",
   "mimetype": "text/x-python",
   "name": "python",
   "nbconvert_exporter": "python",
   "pygments_lexer": "ipython3",
   "version": "3.10.9"
  }
 },
 "nbformat": 4,
 "nbformat_minor": 5
}
