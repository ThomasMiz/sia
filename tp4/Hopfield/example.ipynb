{
 "cells": [
  {
   "cell_type": "code",
   "execution_count": null,
   "id": "27707f86",
   "metadata": {},
   "outputs": [],
   "source": [
    "import numpy as np\n",
    "from hopfield import Hopfield"
   ]
  },
  {
   "cell_type": "code",
   "execution_count": null,
   "id": "ddc1b2fa",
   "metadata": {},
   "outputs": [],
   "source": [
    "patterns = np.array([\n",
    "    [1, 1, -1, -1],\n",
    "    [-1, -1, 1, 1]\n",
    "])"
   ]
  },
  {
   "cell_type": "code",
   "execution_count": null,
   "id": "6d6d1bd8",
   "metadata": {},
   "outputs": [],
   "source": [
    "net = Hopfield(patterns=patterns)\n",
    "query = np.array([1, -1, -1, -1])"
   ]
  },
  {
   "cell_type": "code",
   "execution_count": null,
   "id": "60b387d3",
   "metadata": {},
   "outputs": [],
   "source": [
    "print(\"Patterns:\")\n",
    "print(patterns)\n",
    "print(f\"Weights: ({net.N}):\")\n",
    "print(net.weights)\n",
    "print(f\"Query: {query}\")"
   ]
  },
  {
   "cell_type": "code",
   "execution_count": null,
   "id": "eb51c160",
   "metadata": {},
   "outputs": [],
   "source": [
    "def printer(s_history, h_history, converged, epochs):\n",
    "    print(f\"Epoch {epochs}: (energy {h_history[-1]}) {s_history[-1]}\")\n",
    "\n",
    "s_history, h_history, converged, epochs = net.evaluate(query=query, max_epochs=20, printer=printer)"
   ]
  },
  {
   "cell_type": "code",
   "execution_count": null,
   "id": "864dde20",
   "metadata": {},
   "outputs": [],
   "source": [
    "print(f\"{'Done! Converged' if converged else 'Failed to converge'} after {epochs} epochs: (energy {h_history[-1]}) {s_history[-1]}\")"
   ]
  }
 ],
 "metadata": {
  "kernelspec": {
   "display_name": "Python 3 (ipykernel)",
   "language": "python",
   "name": "python3"
  },
  "language_info": {
   "codemirror_mode": {
    "name": "ipython",
    "version": 3
   },
   "file_extension": ".py",
   "mimetype": "text/x-python",
   "name": "python",
   "nbconvert_exporter": "python",
   "pygments_lexer": "ipython3",
   "version": "3.10.9"
  }
 },
 "nbformat": 4,
 "nbformat_minor": 5
}
