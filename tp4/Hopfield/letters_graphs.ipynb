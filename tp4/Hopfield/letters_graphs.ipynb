{
 "cells": [
  {
   "cell_type": "code",
   "execution_count": null,
   "id": "583ad185",
   "metadata": {},
   "outputs": [],
   "source": [
    "import numpy as np\n",
    "from hopfield import Hopfield\n",
    "from pattern_loader import load_pattern_map, map_reverse_search\n",
    "from printers import print_letter\n",
    "from noise import salt_and_pepper\n",
    "import matplotlib.pyplot as plt"
   ]
  },
  {
   "cell_type": "code",
   "execution_count": null,
   "id": "9cf1e17f",
   "metadata": {},
   "outputs": [],
   "source": [
    "letter_patterns = load_pattern_map('../letters.txt')\n",
    "letter_size = (5, 5)\n",
    "\n",
    "def get_patterns(letters):\n",
    "    patterns = []\n",
    "    for letter in letters:\n",
    "        patterns.append(letter_patterns[letter])\n",
    "    return np.array(patterns)"
   ]
  },
  {
   "cell_type": "code",
   "execution_count": null,
   "id": "108d58d6",
   "metadata": {},
   "outputs": [],
   "source": [
    "print(f\"Hopfeld network learned {len(patterns)} patterns: letters {letters}\")"
   ]
  },
  {
   "cell_type": "code",
   "execution_count": null,
   "id": "d68c9006",
   "metadata": {},
   "outputs": [],
   "source": [
    "# Let's test the system's accuracy in recognizing the J with varying levels of noise:\n",
    "iterations = 4000\n",
    "letters = 'AFJU'\n",
    "letter_query = 'J'\n",
    "noises_count = 10\n",
    "noises = [i / noises_count for i in range(0, noises_count + 1)]\n",
    "\n",
    "net = Hopfield(patterns=get_patterns(letters))\n",
    "query = letter_patterns[letter_query]\n",
    "\n",
    "accuracies = []\n",
    "stds = []\n",
    "for n in noises:\n",
    "    successes = 0\n",
    "    for _ in range(iterations):\n",
    "        query = salt_and_pepper(letter_patterns[letter_query], n, n)\n",
    "        s_history, h_history, converged, epochs = net.evaluate(query=query, max_epochs=20, printer=None)\n",
    "        if np.array_equal(s_history[-1], letter_patterns[letter_query]):\n",
    "            successes += 1\n",
    "    p = successes / iterations\n",
    "    accuracies.append(p)\n",
    "    stds.append(p*(1-p))\n",
    "\n",
    "#plt.plot(noises, values)\n",
    "plt.title(f'Recognition accuracy over noise after {iterations} iterations')\n",
    "plt.xlabel('Amount of noise')\n",
    "plt.ylabel('Recognition accuracy')\n",
    "plt.errorbar(noises, accuracies, yerr=stds)"
   ]
  },
  {
   "cell_type": "code",
   "execution_count": null,
   "id": "918329e7",
   "metadata": {},
   "outputs": [],
   "source": [
    "# Let's now analyze how much the recognition capability for the letter 'J' decreases with the amount of learnt patterns.\n",
    "iterations = 1000\n",
    "letters = 'JXOLWQZISA'\n",
    "letter_query = letters[0]\n",
    "noise = 0.2\n",
    "\n",
    "accuracies = []\n",
    "stds = []\n",
    "for i in range(len(letters)):\n",
    "    net = Hopfield(patterns=get_patterns(letters[0:(i+1)]))\n",
    "    \n",
    "    successes = 0\n",
    "    for _ in range(iterations):\n",
    "        query = salt_and_pepper(letter_patterns[letter_query], noise, noise)\n",
    "        s_history, h_history, converged, epochs = net.evaluate(query=query, max_epochs=20, printer=None)\n",
    "        if np.array_equal(s_history[-1], letter_patterns[letter_query]):\n",
    "            successes += 1\n",
    "    p = successes / iterations\n",
    "    accuracies.append(p)\n",
    "    stds.append(p*(1-p))\n",
    "\n",
    "plt.title(f'Recognition accuracy of \\'{letter_query}\\' with {noise} noise over amout of learnt patterns')\n",
    "plt.xlabel('Amount of learnt patterns')\n",
    "plt.ylabel('Recognition accuracy')\n",
    "plt.grid()\n",
    "plt.errorbar([i for i in range(1, len(letters)+1)], accuracies, yerr=stds)"
   ]
  },
  {
   "cell_type": "code",
   "execution_count": null,
   "id": "4e39d1ea",
   "metadata": {},
   "outputs": [],
   "source": [
    "iterations = 1000\n",
    "letters = 'SJXOLWQZIA'\n",
    "letter_query = letters[0]\n",
    "noise = 0.2\n",
    "\n",
    "accuracies = []\n",
    "stds = []\n",
    "for i in range(len(letters)):\n",
    "    net = Hopfield(patterns=get_patterns(letters[0:(i+1)]))\n",
    "    \n",
    "    successes = 0\n",
    "    for _ in range(iterations):\n",
    "        query = salt_and_pepper(letter_patterns[letter_query], noise, noise)\n",
    "        s_history, h_history, converged, epochs = net.evaluate(query=query, max_epochs=20, printer=None)\n",
    "        if np.array_equal(s_history[-1], letter_patterns[letter_query]):\n",
    "            successes += 1\n",
    "    p = successes / iterations\n",
    "    accuracies.append(p)\n",
    "    stds.append(p*(1-p))\n",
    "\n",
    "plt.title(f'Recognition accuracy of \\'{letter_query}\\' with {noise} noise over amout of learnt patterns')\n",
    "plt.xlabel('Amount of learnt patterns')\n",
    "plt.ylabel('Recognition accuracy')\n",
    "plt.grid()\n",
    "plt.errorbar([i for i in range(1, len(letters)+1)], accuracies, yerr=stds)"
   ]
  }
 ],
 "metadata": {
  "kernelspec": {
   "display_name": "Python 3 (ipykernel)",
   "language": "python",
   "name": "python3"
  },
  "language_info": {
   "codemirror_mode": {
    "name": "ipython",
    "version": 3
   },
   "file_extension": ".py",
   "mimetype": "text/x-python",
   "name": "python",
   "nbconvert_exporter": "python",
   "pygments_lexer": "ipython3",
   "version": "3.10.9"
  }
 },
 "nbformat": 4,
 "nbformat_minor": 5
}
