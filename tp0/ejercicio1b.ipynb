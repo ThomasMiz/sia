{
 "cells": [
  {
   "cell_type": "code",
   "execution_count": null,
   "id": "86034b97",
   "metadata": {
    "scrolled": false
   },
   "outputs": [],
   "source": [
    "import matplotlib.pyplot as plt\n",
    "import pandas as pd\n",
    "import json\n",
    "from src.pokemon import Pokemon, PokemonFactory, StatusEffect\n",
    "from src.catching import attempt_catch"
   ]
  },
  {
   "cell_type": "code",
   "execution_count": null,
   "id": "21908848",
   "metadata": {
    "scrolled": false
   },
   "outputs": [],
   "source": [
    "available_pokemon = []\n",
    "with open(\"pokemon.json\", \"r\") as file:\n",
    "    pokemon_db = json.load(file)\n",
    "    available_pokemon = [key for key in pokemon_db]\n",
    "\n",
    "available_pokemon"
   ]
  },
  {
   "cell_type": "code",
   "execution_count": null,
   "id": "09b65ce3",
   "metadata": {
    "scrolled": false
   },
   "outputs": [],
   "source": [
    "with open(\"ejercicio1b-config.json\", \"r\") as file:\n",
    "    config = json.load(file)\n",
    "\n",
    "ITERS = config[\"iterations\"]\n",
    "LEVEL = config[\"level\"]\n",
    "STATUS = StatusEffect[config[\"status\"]]\n",
    "HP_PERCENTAGE = config[\"hp_percentage\"]\n",
    "POKEBALLS = config[\"pokeballs\"]\n",
    "POKEBALL_COMPARE = config[\"pokeball_compare\"]\n",
    "(ITERS, LEVEL, STATUS, HP_PERCENTAGE, POKEBALLS, POKEBALL_COMPARE)"
   ]
  },
  {
   "cell_type": "code",
   "execution_count": null,
   "id": "50060364",
   "metadata": {
    "scrolled": false
   },
   "outputs": [],
   "source": [
    "factory = PokemonFactory(\"pokemon.json\")\n",
    "\n",
    "def test_pokemon(pokemon_name):\n",
    "    pokemon = factory.create(pokemon_name, LEVEL, STATUS, HP_PERCENTAGE)\n",
    "    df = pd.DataFrame(columns=[\"pokeball\", \"success\"])\n",
    "    for pokeball in POKEBALLS:\n",
    "        for _ in range(ITERS):\n",
    "            attempt, rate = attempt_catch(pokemon, pokeball)\n",
    "            new_row = [pokeball, attempt]\n",
    "            df.loc[len(df)] = new_row\n",
    "    \n",
    "    df = df.groupby(\"pokeball\").agg({\"success\": [\"mean\", \"std\"]}).reset_index()\n",
    "    df.columns = df.columns.map(\"_\".join)\n",
    "    \n",
    "    # Find the common pokeball's mean success rate in the dataset\n",
    "    common_pokeball_mean = 0\n",
    "    for i in range(len(df)):\n",
    "        if (df.loc[i][\"pokeball_\"] == POKEBALL_COMPARE):\n",
    "            common_pokeball_mean = df.loc[i][\"success_mean\"]\n",
    "\n",
    "    df[\"relative_mean\"] = df.success_mean / common_pokeball_mean\n",
    "    df[\"relative_std\"] = df.success_std / common_pokeball_mean\n",
    "    return df"
   ]
  },
  {
   "cell_type": "code",
   "execution_count": null,
   "id": "f80dc951",
   "metadata": {
    "scrolled": false
   },
   "outputs": [],
   "source": [
    "def make_graph(df):\n",
    "    # Crear una figura y un eje\n",
    "    fig, ax = plt.subplots(figsize=(10, 6))\n",
    "\n",
    "    # Crear las barras del gráfico\n",
    "    x = df[\"pokeball_\"]\n",
    "    y = df[\"relative_mean\"]\n",
    "    #error = df[\"relative_std\"]\n",
    "    #ax.bar(x, y, yerr=error, capsize=5)\n",
    "    ax.bar(x, y, capsize=5)\n",
    "\n",
    "    # Configurar el eje x\n",
    "    ax.set_xticks(range(len(x)))\n",
    "    ax.set_xticklabels(x, rotation=45, ha=\"right\")\n",
    "    ax.set_xlabel(\"Pokebola\")\n",
    "\n",
    "    # Configurar el eje y\n",
    "    ax.set_ylabel(\"Eficiencia relativa\")\n",
    "\n",
    "    # Añadir título\n",
    "    ax.set_title(\"Promedios de eficiencia relativa de las pokebolas respectos a la pokebola común\")\n",
    "\n",
    "    # Mostrar el gráfico\n",
    "    return plt.show()"
   ]
  },
  {
   "cell_type": "code",
   "execution_count": null,
   "id": "6376bb32",
   "metadata": {
    "scrolled": false
   },
   "outputs": [],
   "source": [
    "caterpie_df = test_pokemon(\"caterpie\")\n",
    "caterpie_df"
   ]
  },
  {
   "cell_type": "code",
   "execution_count": null,
   "id": "1af46f94",
   "metadata": {
    "scrolled": false
   },
   "outputs": [],
   "source": [
    "make_graph(caterpie_df)"
   ]
  },
  {
   "cell_type": "code",
   "execution_count": null,
   "id": "d3f4cab7",
   "metadata": {
    "scrolled": false
   },
   "outputs": [],
   "source": [
    "jolteon_df = test_pokemon(\"jolteon\")\n",
    "make_graph(jolteon_df)"
   ]
  },
  {
   "cell_type": "code",
   "execution_count": null,
   "id": "f800df6a",
   "metadata": {
    "scrolled": false
   },
   "outputs": [],
   "source": [
    "snorlax_df = test_pokemon(\"snorlax\")\n",
    "make_graph(snorlax_df)"
   ]
  },
  {
   "cell_type": "code",
   "execution_count": null,
   "id": "fa97d730",
   "metadata": {
    "scrolled": false
   },
   "outputs": [],
   "source": [
    "onix_df = test_pokemon(\"onix\")\n",
    "make_graph(onix_df)"
   ]
  },
  {
   "cell_type": "code",
   "execution_count": null,
   "id": "dbf530a9",
   "metadata": {
    "scrolled": false
   },
   "outputs": [],
   "source": [
    "mewtwo_df = test_pokemon(\"mewtwo\")\n",
    "make_graph(mewtwo_df)"
   ]
  }
 ],
 "metadata": {
  "kernelspec": {
   "display_name": "Python 3 (ipykernel)",
   "language": "python",
   "name": "python3"
  },
  "language_info": {
   "codemirror_mode": {
    "name": "ipython",
    "version": 3
   },
   "file_extension": ".py",
   "mimetype": "text/x-python",
   "name": "python",
   "nbconvert_exporter": "python",
   "pygments_lexer": "ipython3",
   "version": "3.10.9"
  }
 },
 "nbformat": 4,
 "nbformat_minor": 5
}
