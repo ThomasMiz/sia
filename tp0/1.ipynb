{
 "cells": [
  {
   "cell_type": "code",
   "execution_count": null,
   "metadata": {},
   "outputs": [],
   "source": [
    "import matplotlib.pyplot as plt\n",
    "import pandas as pd\n",
    "import json\n",
    "from src.pokemon import Pokemon, PokemonFactory, StatusEffect\n",
    "from src.catching import attempt_catch"
   ]
  },
  {
   "cell_type": "code",
   "execution_count": null,
   "metadata": {},
   "outputs": [],
   "source": [
    "available_pokemon = []\n",
    "with open(\"pokemon.json\", \"r\") as file:\n",
    "    pokemon_db = json.load(file)\n",
    "    available_pokemon = [key for key in pokemon_db]\n",
    "\n",
    "available_pokemon"
   ]
  },
  {
   "cell_type": "code",
   "execution_count": null,
   "metadata": {},
   "outputs": [],
   "source": [
    "def run_iterations(pokemon_name, pokeball, level, status, hp_percentage, iterations):\n",
    "    factory = PokemonFactory(\"pokemon.json\")\n",
    "    pokemon = factory.create(pokemon_name, level, status, hp_percentage)\n",
    "    success = 0 \n",
    "    for _ in range(iterations):\n",
    "        attempt, rate = attempt_catch(pokemon, pokeball)\n",
    "        if attempt:\n",
    "            success += 1\n",
    "    return [pokemon_name, pokeball, success, iterations]"
   ]
  },
  {
   "cell_type": "code",
   "execution_count": null,
   "metadata": {},
   "outputs": [],
   "source": [
    "ITERS = 100\n",
    "LEVEL = 100\n",
    "STATUS = StatusEffect.NONE\n",
    "HP_PERCENTAGE = 1.0\n",
    "POKEBALLS = [\"pokeball\", \"ultraball\", \"fastball\", \"heavyball\"]\n",
    "\n",
    "results = []\n",
    "df = pd.DataFrame(columns= [\"pokemon_name\", \"pokeball\", \"success\", \"attemps\"])\n",
    "for pokeball in POKEBALLS:\n",
    "    for pokemon_name in available_pokemon:\n",
    "        new_row = run_iterations(pokemon_name, pokeball, LEVEL, STATUS, HP_PERCENTAGE, ITERS)\n",
    "        df.loc[len(df)] = new_row\n",
    "\n",
    "df['accuracy'] = df.success / df.attemps\n",
    "\n",
    "df = df.groupby(\"pokemon_name\").agg({\"accuracy\": [\"mean\", \"std\"]}).reset_index()\n",
    "df.columns = df.columns.map(\"_\".join)\n",
    "df"
   ]
  },
  {
   "cell_type": "code",
   "execution_count": null,
   "metadata": {},
   "outputs": [],
   "source": [
    "# Crear una figura y un eje\n",
    "fig, ax = plt.subplots(figsize=(10, 6))\n",
    "\n",
    "# Crear las barras del gráfico\n",
    "x = df[\"pokemon_name_\"]\n",
    "y = df[\"accuracy_mean\"]\n",
    "error = df[\"accuracy_std\"]\n",
    "ax.bar(x, y, yerr=error, capsize=5)\n",
    "\n",
    "# Configurar el eje x\n",
    "ax.set_xticks(range(len(x)))\n",
    "ax.set_xticklabels(x, rotation=45, ha=\"right\")\n",
    "ax.set_xlabel(\"Pokemon\")\n",
    "\n",
    "# Configurar el eje y\n",
    "ax.set_ylabel(\"Accuracy\")\n",
    "\n",
    "# Añadir título\n",
    "ax.set_title(\"Promedio de capturas de los distintos Pokemons en 100 iteraciones\")\n",
    "\n",
    "# Mostrar el gráfico\n",
    "plt.show()"
   ]
  },
  {
   "cell_type": "code",
   "execution_count": null,
   "metadata": {},
   "outputs": [],
   "source": []
  }
 ],
 "metadata": {
  "kernelspec": {
   "display_name": "Python 3 (ipykernel)",
   "language": "python",
   "name": "python3"
  },
  "language_info": {
   "codemirror_mode": {
    "name": "ipython",
    "version": 3
   },
   "file_extension": ".py",
   "mimetype": "text/x-python",
   "name": "python",
   "nbconvert_exporter": "python",
   "pygments_lexer": "ipython3",
   "version": "3.10.6"
  }
 },
 "nbformat": 4,
 "nbformat_minor": 2
}
