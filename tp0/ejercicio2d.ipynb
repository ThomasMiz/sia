{
 "cells": [
  {
   "cell_type": "code",
   "execution_count": 1,
   "metadata": {},
   "outputs": [],
   "source": [
    "import json\n",
    "from src.pokemon import PokemonFactory, StatusEffect\n",
    "from src.catching import attempt_catch"
   ]
  },
  {
   "cell_type": "code",
   "execution_count": 2,
   "metadata": {},
   "outputs": [],
   "source": [
    "def calculate_rate(pokemon_name, pokeball, status, level, hp_percentage):\n",
    "    factory = PokemonFactory(\"pokemon.json\")\n",
    "    pokemon = factory.create(pokemon_name, level, status, hp_percentage)\n",
    "    succes, rate = attempt_catch(pokemon, pokeball)\n",
    "    return rate"
   ]
  },
  {
   "cell_type": "code",
   "execution_count": 3,
   "metadata": {},
   "outputs": [],
   "source": [
    "with open(\"ejercicio2d-config.json\", \"r\") as file:\n",
    "    config = json.load(file)\n",
    "\n",
    "pokemon_names = [config[\"first_pokemon\"], config[\"second_pokemon\"]]\n",
    "hp_percentages = config[\"hp_percentages\"]\n",
    "statuses = config[\"statuses\"]\n",
    "pokeballs = config[\"pokeballs\"]\n",
    "\n",
    "# Vimos en el ejercicio anterior que el nivel NO influye en lo mas minimo en la probabilidad de captura.\n",
    "# Con lo cual, queda descartado para este analisis si bien el grupo entiende que capturar un Pokemon\n",
    "# de mayor nivel, lo hace mas valioso para el jugador.\n",
    "default_level = config[\"default_level\"]\n",
    "\n",
    "rates = {}\n",
    "for pokemon_name in pokemon_names:\n",
    "    pokemon_rates = {}\n",
    "    for hp_percentage in hp_percentages:\n",
    "        for status in statuses:\n",
    "            for pokeball in pokeballs:\n",
    "                rate = calculate_rate(pokemon_name, pokeball, StatusEffect[status], default_level, hp_percentage)\n",
    "                pokemon_rates[(pokeball, status, hp_percentage)] = rate\n",
    "    rates[pokemon_name] = pokemon_rates"
   ]
  },
  {
   "cell_type": "code",
   "execution_count": 4,
   "metadata": {},
   "outputs": [
    {
     "name": "stdout",
     "output_type": "stream",
     "text": [
      "Para capturar a caterpie, la mejor combinación es: ('ultraball', 'SLEEP', 1.0) con probabilidad 1.00\n",
      "Para capturar a mewtwo, la mejor combinación es: ('fastball', 'SLEEP', 0.1) con probabilidad 0.09\n"
     ]
    }
   ],
   "source": [
    "for pokemon_name in pokemon_names:\n",
    "    max_rate = max(rates[pokemon_name].values())\n",
    "    max_combination = [c for c, r in rates[pokemon_name].items() if r == max_rate][0]\n",
    "    print(f\"Para capturar a {pokemon_name}, la mejor combinación es: {max_combination} con probabilidad {max_rate:.2f}\")\n",
    "\n",
    "# Es posible que la combinación de pokeball, status, level y hp_percentage que tenga la mayor tasa de captura para un Pokémon de nivel 100 sea con estos parámetros.\n",
    "# Recordemos que los valores correspondientes a la tasa de captura son solo estimaciones basadas en la mecanica del juego, y existen factores aleatorios que pueden influir\n",
    "# en el resulto final de la captura"
   ]
  }
 ],
 "metadata": {
  "kernelspec": {
   "display_name": "Python 3 (ipykernel)",
   "language": "python",
   "name": "python3"
  },
  "language_info": {
   "codemirror_mode": {
    "name": "ipython",
    "version": 3
   },
   "file_extension": ".py",
   "mimetype": "text/x-python",
   "name": "python",
   "nbconvert_exporter": "python",
   "pygments_lexer": "ipython3",
   "version": "3.10.6"
  }
 },
 "nbformat": 4,
 "nbformat_minor": 2
}
