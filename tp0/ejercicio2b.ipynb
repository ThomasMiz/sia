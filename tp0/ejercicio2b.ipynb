{
 "cells": [
  {
   "cell_type": "code",
   "execution_count": null,
   "id": "e8eb15ad",
   "metadata": {},
   "outputs": [],
   "source": [
    "import matplotlib.pyplot as plt\n",
    "import pandas as pd\n",
    "import json\n",
    "from src.pokemon import Pokemon, PokemonFactory, StatusEffect\n",
    "from src.catching import attempt_catch"
   ]
  },
  {
   "cell_type": "code",
   "execution_count": null,
   "id": "661aada7",
   "metadata": {},
   "outputs": [],
   "source": [
    "#with open(\"ejercicio2a-config.json\", \"r\") as file:\n",
    "#    config = json.load(file)\n",
    "\n",
    "POKEMON_NAME = \"caterpie\"\n",
    "ITERS = 1000\n",
    "LEVEL = 100\n",
    "STATUS = StatusEffect.NONE\n",
    "HP_PERCENTAGES = [1.0, 0.8, 0.6, 0.4, 0.2, 0.0]\n",
    "POKEBALL = \"pokeball\""
   ]
  },
  {
   "cell_type": "code",
   "execution_count": null,
   "id": "7195ad8a",
   "metadata": {},
   "outputs": [],
   "source": [
    "def run_iterations4(pokemon_name, pokeball, level, status, hp_percentage, iterations):\n",
    "    factory = PokemonFactory(\"pokemon.json\")\n",
    "    pokemon = factory.create(pokemon_name, level, status, hp_percentage)\n",
    "    success = 0 \n",
    "    for _ in range(iterations):\n",
    "        attempt, rate = attempt_catch(pokemon, pokeball)\n",
    "        if attempt:\n",
    "            success += 1\n",
    "    return success"
   ]
  },
  {
   "cell_type": "code",
   "execution_count": null,
   "id": "2715a453",
   "metadata": {},
   "outputs": [],
   "source": [
    "results = []\n",
    "df = pd.DataFrame(columns= [\"health\", \"success\", \"attemps\"])\n",
    "for health in HP_PERCENTAGES:\n",
    "    successes = run_iterations4(POKEMON_NAME, POKEBALL, LEVEL, STATUS, health, ITERS)\n",
    "    df.loc[len(df)] = [health.__str__(), successes, ITERS]\n",
    "\n",
    "df['accuracy'] = df.success / df.attemps\n",
    "\n",
    "#accuracy_with_status_none = 0\n",
    "#for i in range(len(df)):\n",
    "#        if (df.loc[i][\"status\"] == StatusEffect.NONE.name):\n",
    "#            accuracy_with_status_none = df.loc[i][\"accuracy\"]\n",
    "\n",
    "#df['accuracy_relative'] = df.accuracy / accuracy_with_status_none\n",
    "\n",
    "df"
   ]
  },
  {
   "cell_type": "code",
   "execution_count": null,
   "id": "716ac15b",
   "metadata": {},
   "outputs": [],
   "source": [
    "# Crear una figura y un eje\n",
    "fig, ax = plt.subplots(figsize=(10, 6))\n",
    "\n",
    "# Crear las barras del gráfico\n",
    "x = df[\"health\"]\n",
    "y = df[\"accuracy\"]\n",
    "#error = df[\"accuracy_std\"]\n",
    "#ax.bar(x, y, yerr=error, capsize=5)\n",
    "ax.bar(x, y, capsize=5)\n",
    "\n",
    "# Configurar el eje x\n",
    "ax.set_xticks(range(len(x)))\n",
    "ax.set_xticklabels(x, rotation=45, ha=\"right\")\n",
    "ax.set_xlabel(\"health percentage\")\n",
    "\n",
    "# Configurar el eje y\n",
    "ax.set_ylabel(\"Relative capture rate\")\n",
    "\n",
    "# Añadir título\n",
    "ax.set_title(\"Capture average for a \" + POKEMON_NAME + \" with \" + ITERS.__str__() + \" iterations\")\n",
    "\n",
    "# Mostrar el gráfico\n",
    "plt.show()"
   ]
  }
 ],
 "metadata": {
  "kernelspec": {
   "display_name": "Python 3 (ipykernel)",
   "language": "python",
   "name": "python3"
  },
  "language_info": {
   "codemirror_mode": {
    "name": "ipython",
    "version": 3
   },
   "file_extension": ".py",
   "mimetype": "text/x-python",
   "name": "python",
   "nbconvert_exporter": "python",
   "pygments_lexer": "ipython3",
   "version": "3.10.9"
  }
 },
 "nbformat": 4,
 "nbformat_minor": 5
}
