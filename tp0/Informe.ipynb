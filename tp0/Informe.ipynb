{
 "cells": [
  {
   "attachments": {},
   "cell_type": "markdown",
   "metadata": {},
   "source": [
    "# TP0: Introducción al Análisis de Datos"
   ]
  },
  {
   "attachments": {},
   "cell_type": "markdown",
   "metadata": {},
   "source": [
    "### Imports y útiles, ejecutar primero"
   ]
  },
  {
   "cell_type": "code",
   "execution_count": null,
   "metadata": {},
   "outputs": [],
   "source": [
    "import matplotlib.pyplot as plt\n",
    "import pandas as pd\n",
    "import json\n",
    "import seaborn as sns\n",
    "from enum import Enum\n",
    "from src.pokemon import Pokemon, PokemonFactory, StatusEffect\n",
    "from src.catching import attempt_catch"
   ]
  },
  {
   "cell_type": "code",
   "execution_count": null,
   "metadata": {},
   "outputs": [],
   "source": [
    "factory = PokemonFactory(\"pokemon.json\")\n",
    "\n",
    "available_pokemon = []\n",
    "with open(\"pokemon.json\", \"r\") as pokemon_file:\n",
    "    pokemon_db = json.load(pokemon_file)\n",
    "    available_pokemon = [key for key in pokemon_db]\n",
    "\n",
    "with open(\"global-config.json\", \"r\") as global_file:\n",
    "    global_config = json.load(global_file)\n",
    "\n",
    "POKEBALLS = global_config[\"pokeballs\"]\n",
    "ITERS = global_config[\"iterations\"]"
   ]
  },
  {
   "cell_type": "code",
   "execution_count": null,
   "metadata": {},
   "outputs": [],
   "source": [
    "def make_graph(df):\n",
    "    # Crear una figura y un eje\n",
    "    fig, ax = plt.subplots(figsize=(10, 6))\n",
    "\n",
    "    # Crear las barras del gráfico\n",
    "    x = df[\"pokeball_\"]\n",
    "    y = df[\"relative_mean\"]\n",
    "    #error = df[\"relative_std\"]\n",
    "    #ax.bar(x, y, yerr=error, capsize=5)\n",
    "    ax.bar(x, y, capsize=5)\n",
    "\n",
    "    # Configurar el eje x\n",
    "    ax.set_xticks(range(len(x)))\n",
    "    ax.set_xticklabels(x, rotation=45, ha=\"right\")\n",
    "    ax.set_xlabel(\"Pokebola\")\n",
    "\n",
    "    # Configurar el eje y\n",
    "    ax.set_ylabel(\"Eficiencia relativa\")\n",
    "\n",
    "    # Añadir título\n",
    "    ax.set_title(\"Promedios de eficiencia relativa de las pokebolas respectos a la pokebola común\")\n",
    "\n",
    "    # Mostrar el gráfico\n",
    "    return plt.show()"
   ]
  },
  {
   "cell_type": "code",
   "execution_count": null,
   "metadata": {},
   "outputs": [],
   "source": [
    "def test_pokemon(pokemon_name, level, status, hp_percentage, pokeball_compare):\n",
    "    pokemon = factory.create(pokemon_name, level, status, hp_percentage)\n",
    "    df = pd.DataFrame(columns=[\"pokeball\", \"success\"])\n",
    "    for pokeball in POKEBALLS:\n",
    "        for _ in range(ITERS):\n",
    "            attempt, rate = attempt_catch(pokemon, pokeball)\n",
    "            new_row = [pokeball, attempt]\n",
    "            df.loc[len(df)] = new_row\n",
    "    \n",
    "    df = df.groupby(\"pokeball\").agg({\"success\": [\"mean\", \"std\"]}).reset_index()\n",
    "    df.columns = df.columns.map(\"_\".join)\n",
    "    \n",
    "    # Find the common pokeball's mean success rate in the dataset\n",
    "    common_pokeball_mean = 0\n",
    "    for i in range(len(df)):\n",
    "        if (df.loc[i][\"pokeball_\"] == pokeball_compare):\n",
    "            common_pokeball_mean = df.loc[i][\"success_mean\"]\n",
    "\n",
    "    df[\"relative_mean\"] = df.success_mean / common_pokeball_mean\n",
    "    df[\"relative_std\"] = df.success_std / common_pokeball_mean\n",
    "    return df"
   ]
  },
  {
   "attachments": {},
   "cell_type": "markdown",
   "metadata": {},
   "source": [
    "### 1A: Probabilidad de captura promedio para cada pokemon con cada pokebola\n",
    "\n",
    "Se toman como condiciones \"ideales\", nivel 100, sin estado (esto no lo dice el enunciado) y con 100% de HP.\n",
    "Una aclaración, sabiendo la mecánica del juego, es que cuando se nombran las condiciones \"ideales\" en el primer punto, estas deberían ser HP:1% (o el mínimo numero entero si no es en porcentaje, HP:1) y LVL 100, ya que el entrenador quiere atrapar el pokemon más fuerte (aunque no se encuentren niveles 100 salvajes) con la mayor probabilidad de captura posible (y esto se obtiene cuando el pokemon tiene la menor cantidad de vida posible y un estado favorable como SLEEP o FREEZE)."
   ]
  },
  {
   "cell_type": "code",
   "execution_count": null,
   "metadata": {},
   "outputs": [],
   "source": [
    "with open(\"ejercicio1a-config.json\", \"r\") as file_1a:\n",
    "    config_1a = json.load(file_1a)\n",
    "\n",
    "LEVEL = config_1a[\"level\"]\n",
    "STATUS = StatusEffect[config_1a[\"status\"]]\n",
    "HP_PERCENTAGE = config_1a[\"hp_percentage\"]\n"
   ]
  },
  {
   "attachments": {},
   "cell_type": "markdown",
   "metadata": {},
   "source": [
    "Retomando, teniendo en cuenta cada Pokemon dentro de la base de datos (pokemon.json), y ejecutando 100 veces la función de catching con cada pokebola disponible, obtenemos una tabla que resume los porcentajes de captura en cada una de estas situaciones."
   ]
  },
  {
   "cell_type": "code",
   "execution_count": null,
   "metadata": {},
   "outputs": [],
   "source": [
    "probabilities = {}\n",
    "for pokemon in available_pokemon:\n",
    "\tprobabilities[pokemon] = {}\n",
    "\tpk = factory.create(pokemon, LEVEL, STATUS, HP_PERCENTAGE)\n",
    "\tfor pokeball in POKEBALLS:\n",
    "\t\tcaptured = 0\n",
    "\t\tfor _ in range(ITERS):\n",
    "\t\t\tcaptured += 1 if attempt_catch(pk, pokeball)[0] else 0\n",
    "\t\tprobabilities[pokemon][pokeball] = captured\n",
    "\n",
    "df = pd.DataFrame(probabilities)\n",
    "df.style.background_gradient(cmap=\"Greens\")"
   ]
  },
  {
   "attachments": {},
   "cell_type": "markdown",
   "metadata": {},
   "source": [
    "### 1B: Efectividad en las pokebolas\n",
    "\n",
    "Por lo visto anteriormente, donde se evalúa el porcentaje de captura, vemos que para distintos pokemon se obtienen diferentes porcentajes de captura. Esto indica que hay propiedades intrínsecas en los pokemon que hace que el porcentaje de captura sea distinto (esto es así ya que es lo único que está cambiando, pues la pokebola, el nivel, el porcentaje de HP y el estado del pokemon sigue siendo el mismo)."
   ]
  },
  {
   "cell_type": "code",
   "execution_count": null,
   "metadata": {},
   "outputs": [],
   "source": [
    "with open(\"ejercicio1b-config.json\", \"r\") as file_1b:\n",
    "    config_1b = json.load(file_1b)\n",
    "\n",
    "LEVEL = config_1b[\"level\"]\n",
    "STATUS = StatusEffect[config_1b[\"status\"]]\n",
    "HP_PERCENTAGE = config_1b[\"hp_percentage\"]\n",
    "POKEBALL_COMPARE = config_1b[\"pokeball_compare\"]"
   ]
  },
  {
   "cell_type": "code",
   "execution_count": null,
   "metadata": {},
   "outputs": [],
   "source": [
    "caterpie_df = test_pokemon(\"caterpie\", LEVEL, STATUS, HP_PERCENTAGE, POKEBALL_COMPARE)\n",
    "caterpie_df.style.background_gradient(cmap=\"Greens\", axis=0).hide(axis='index')"
   ]
  },
  {
   "attachments": {},
   "cell_type": "markdown",
   "metadata": {},
   "source": [
    "Primero podemos ver que para un Caterpie, un pokemon fácil de capturar, la fastball y heavyball se mantienen en los 0.75 de eficiencia relativa"
   ]
  },
  {
   "cell_type": "code",
   "execution_count": null,
   "metadata": {},
   "outputs": [],
   "source": [
    "make_graph(caterpie_df)"
   ]
  },
  {
   "attachments": {},
   "cell_type": "markdown",
   "metadata": {},
   "source": [
    "Pero si pasamos a un jolteon, vemos que su velocidad, es decir una de las propiedades intrínsecas hace que la fastball sea hasta más eficiente que la ultraball."
   ]
  },
  {
   "cell_type": "code",
   "execution_count": null,
   "metadata": {},
   "outputs": [],
   "source": [
    "jolteon_df = test_pokemon(\"jolteon\", LEVEL, STATUS, HP_PERCENTAGE, POKEBALL_COMPARE)\n",
    "make_graph(jolteon_df)"
   ]
  },
  {
   "attachments": {},
   "cell_type": "markdown",
   "metadata": {},
   "source": [
    "Luego un snorlax tendrá mas ratio de captura con la heavyball, debido a su peso."
   ]
  },
  {
   "cell_type": "code",
   "execution_count": null,
   "metadata": {},
   "outputs": [],
   "source": [
    "snorlax_df = test_pokemon(\"snorlax\", LEVEL, STATUS, HP_PERCENTAGE, POKEBALL_COMPARE)\n",
    "make_graph(snorlax_df)"
   ]
  },
  {
   "attachments": {},
   "cell_type": "markdown",
   "metadata": {},
   "source": [
    "### 2A: Condiciones de salud\n",
    "\n",
    "Tomamos todos los pokemon en todas las condiciones de salud posibles, y los intentamos capturar 100 veces en cada situación. El resultado muestra que existe una variación según el estado en el que se encuentra el pokemon. Se aprecia que sleep y freeze son los más fuertes pero también que poison, burn y paralysis aumentan el porcentaje de captura"
   ]
  },
  {
   "cell_type": "code",
   "execution_count": null,
   "metadata": {},
   "outputs": [],
   "source": [
    "with open(\"ejercicio2a-config.json\", \"r\") as file_2a:\n",
    "    config_2a = json.load(file_2a)\n",
    "\n",
    "LEVEL = config_2a[\"level\"]\n",
    "HP_PERCENTAGE = config_2a[\"hp_percentage\"]"
   ]
  },
  {
   "cell_type": "code",
   "execution_count": null,
   "metadata": {},
   "outputs": [],
   "source": [
    "probabilities = {}\n",
    "for pokemon in available_pokemon:\n",
    "\tprobabilities[pokemon] = {}\n",
    "\tfor status in StatusEffect:\n",
    "\t\tpk = factory.create(pokemon, LEVEL, status, HP_PERCENTAGE)\n",
    "\t\tcaptured = 0\n",
    "\t\tfor _ in range(ITERS):\n",
    "\t\t\tcaptured += 1 if attempt_catch(pk, \"pokeball\")[0] else 0\n",
    "\t\tprobabilities[pokemon][status.value[0]] = captured\n",
    "\n",
    "df = pd.DataFrame(probabilities)\n",
    "df.style.background_gradient(cmap=\"Greens\")"
   ]
  },
  {
   "attachments": {},
   "cell_type": "markdown",
   "metadata": {},
   "source": [
    "### 2B: Puntos de vida\n",
    "\n",
    "Para demostrar que los puntos de vida tienen importancia a la hora de capturar un pokemon, tomamos como muestras todos los pokemon disponibles (para demostrar que no sólo uno tiene esta propiedad) con diferentes porcentajes de salud: 100, 80, 60, 40 y 20. Los sometimos a capturas con una misma pokebola (la pokeball, para que no tenga ningún modificador extra) y obtuvimos diferentes porcentajes que son inversamente proporcionales al porcentaje de salud del pokemon."
   ]
  },
  {
   "cell_type": "code",
   "execution_count": null,
   "metadata": {},
   "outputs": [],
   "source": [
    "with open(\"ejercicio2b-config.json\", \"r\") as file_2b:\n",
    "    config = json.load(file_2b)\n",
    "\n",
    "POKEMON_NAME = config[\"pokemon_name\"]\n",
    "LEVEL = config[\"level\"]\n",
    "STATUS = StatusEffect[config[\"status\"]]\n",
    "HP_PERCENTAGES = config[\"hp_percentages\"]\n",
    "POKEBALL = config[\"pokeball\"]"
   ]
  },
  {
   "cell_type": "code",
   "execution_count": null,
   "metadata": {},
   "outputs": [],
   "source": [
    "probabilities = {}\n",
    "for pokemon in available_pokemon:\n",
    "\tprobabilities[pokemon] = {}\n",
    "\tfor hp in HP_PERCENTAGES:\n",
    "\t\tpk = factory.create(pokemon, 100, StatusEffect.NONE, hp)\n",
    "\t\tcaptured = 0\n",
    "\t\tfor _ in range(100):\n",
    "\t\t\tcaptured += 1 if attempt_catch(pk, \"pokeball\")[0] else 0\n",
    "\t\tprobabilities[pokemon][hp] = captured\n",
    "\n",
    "df = pd.DataFrame(probabilities)\n",
    "df.style.background_gradient(cmap=\"Greens\")"
   ]
  },
  {
   "cell_type": "code",
   "execution_count": null,
   "metadata": {},
   "outputs": [],
   "source": [
    "plot = sns.barplot(x = df.index.values.tolist(), y =df[POKEMON_NAME].values.tolist(), color = \"Green\")\n",
    "plot.set(xlabel=\"HP\", ylabel=\"Porcentaje de captura\", title=f\"Simulación de captura con un {POKEMON_NAME.capitalize()}\")\n",
    "plt.show(plot)"
   ]
  },
  {
   "attachments": {},
   "cell_type": "markdown",
   "metadata": {},
   "source": [
    "### 2C: Parámetros que más afectan la efectividad de captura\n",
    "\n",
    "La pokebola usada es uno de los parámetros que más afecta la efectividad, ya que cambia mucho usar una heavyball en un Snorlax que no usarla, o usar una fastball en un Jolteon. También vimos que la ultraball aumenta el porcentaje de captura en gran medida ya que vemos hasta un x4 en las muestras obtenidas, teniendo como referencia la pokeball.\n",
    "Otro parámetro es la vida actual, donde vemos un x2 (comparando desde 100% a 1% de HP) en pokemon fáciles de capturar como Caterpie, o un x10 en pokemon más difíciles como Snorlax u Onix.\n",
    "Vale aclarar que en todos estos casos estamos aplicando lo que se llama en Economía el supuesto Ceteris Paribus, es decir, la suposición de que todas las demás variables que podrían afectar el resultado en cuestión, se mantienen constantes."
   ]
  },
  {
   "cell_type": "code",
   "execution_count": null,
   "metadata": {},
   "outputs": [],
   "source": [
    "with open(\"ejercicio2c-config.json\", \"r\") as file_2c:\n",
    "    config_2c = json.load(file_2c)\n",
    "\n",
    "def calculate_capture_rates(param, param_values):\n",
    "\n",
    "    def_poke_name =  config_2c[\"default_pokemon_name\"]\n",
    "    def_hp_percentage =  config_2c[\"default_hp_percentage\"]\n",
    "    def_level =  config_2c[\"default_level\"]\n",
    "    def_status = StatusEffect[ config_2c[\"default_status\"]]\n",
    "    def_pokeball =  config_2c[\"default_pokeball\"]\n",
    "\n",
    "    pokemon = factory.create(def_poke_name, def_level, def_status, def_hp_percentage)\n",
    "    pokeball = def_pokeball\n",
    "\n",
    "    capture_rates = []\n",
    "    for val in param_values:\n",
    "        if param == 'level':\n",
    "            pokemon = factory.create(def_poke_name, val, def_status, def_hp_percentage)\n",
    "        elif param == 'hp_percentage':\n",
    "            pokemon = factory.create(def_poke_name, def_level, def_status, val)\n",
    "        elif param == 'status':\n",
    "            pokemon = factory.create(def_poke_name, def_level, StatusEffect[val], def_hp_percentage)\n",
    "        elif param == 'pokeball':\n",
    "            pokeball = val\n",
    "\n",
    "        success, rate = attempt_catch(pokemon, pokeball)\n",
    "        capture_rates.append(rate)\n",
    "    return capture_rates"
   ]
  },
  {
   "cell_type": "code",
   "execution_count": null,
   "metadata": {},
   "outputs": [],
   "source": [
    "fig, axs = plt.subplots(2, 2, figsize=(12, 8))\n",
    "\n",
    "for i, param in enumerate(['level', 'hp_percentage', 'pokeball', 'status']):\n",
    "    capture_rates = calculate_capture_rates(param,  config_2c[param + 's']) \n",
    "    row, col = divmod(i, 2)  # Obtener la fila y la columna correspondientes a este parámetro en la matriz de subplots. Necesito axs[0,0], axs[0,1], axs[1,0], axs[1,1]\n",
    "    axs[row, col].plot( config_2c[param + 's'], capture_rates)\n",
    "    axs[row, col].set_xlabel(param)\n",
    "    axs[row, col].set_ylabel('Capture Rate')\n",
    "    axs[row, col].set_ylim([0,1])\n",
    "    axs[row, col].set_title(f\"Capture rate vs {param}\", fontsize=14)\n",
    "plt.tight_layout()\n",
    "plt.show()"
   ]
  },
  {
   "attachments": {},
   "cell_type": "markdown",
   "metadata": {},
   "source": [
    "### 2D: Combinación de condiciones óptimas para un pokemon\n",
    "\n",
    "Teniendo en cuenta a Onix y a Snorlax.\n",
    "\n",
    "Vimos en el ejercicio anterior que EN PRINCIPIO el nivel no influye en lo mas minimo en la probabilidad de captura. Y decimos en principio porque teniendo en cuenta estos parámetros, un Jolteon nivel 100 es lo mismo que un nivel 1, pero en realidad el de nivel 100 tiene mas speed, por lo que sólo teniendo en cuenta eso, la fastball podría ser más eficiente en el de nivel 100.\n",
    "Por esto, queda descartado para este análisis si bien el grupo entiende que capturar un Pokemon de mayor nivel, lo hace más valioso para el jugador."
   ]
  },
  {
   "cell_type": "code",
   "execution_count": null,
   "metadata": {},
   "outputs": [],
   "source": [
    "def calculate_rate(pokemon_name, pokeball, status, level, hp_percentage):\n",
    "    factory = PokemonFactory(\"pokemon.json\")\n",
    "    pokemon = factory.create(pokemon_name, level, status, hp_percentage)\n",
    "    succes, rate = attempt_catch(pokemon, pokeball)\n",
    "    return rate"
   ]
  },
  {
   "cell_type": "code",
   "execution_count": null,
   "metadata": {},
   "outputs": [],
   "source": [
    "with open(\"ejercicio2d-config.json\", \"r\") as file_2d:\n",
    "    config_2d = json.load(file_2d)\n",
    "\n",
    "pokemon_names = [config_2d[\"first_pokemon\"], config_2d[\"second_pokemon\"]]\n",
    "hp_percentages = config_2d[\"hp_percentages\"]\n",
    "statuses = config_2d[\"statuses\"]\n",
    "default_level = config_2d[\"default_level\"]\n",
    "\n",
    "rates = {}\n",
    "for pokemon_name in pokemon_names:\n",
    "    pokemon_rates = {}\n",
    "    for hp_percentage in hp_percentages:\n",
    "        for status in statuses:\n",
    "            for pokeball in POKEBALLS:\n",
    "                rate = calculate_rate(pokemon_name, pokeball, StatusEffect[status], default_level, hp_percentage)\n",
    "                pokemon_rates[(pokeball, status, hp_percentage)] = rate\n",
    "    rates[pokemon_name] = pokemon_rates"
   ]
  },
  {
   "cell_type": "code",
   "execution_count": null,
   "metadata": {},
   "outputs": [],
   "source": [
    "for pokemon_name in pokemon_names:\n",
    "    max_rate = max(rates[pokemon_name].values())\n",
    "    max_combination = [c for c, r in rates[pokemon_name].items() if r == max_rate][0]\n",
    "    print(f\"Para capturar a {pokemon_name}, la mejor combinación es: {max_combination} con probabilidad {max_rate:.2f}\")"
   ]
  },
  {
   "attachments": {},
   "cell_type": "markdown",
   "metadata": {},
   "source": [
    "### 2E: ¿Otra combinación?\n",
    "\n",
    "Como en el ejemplo del Jolteon, en las condiciones en las que trabajamos no es importante el nivel. En nuestro programa nivel solo mejora la salud y eso dificultaría más la batalla para bajarle la vida al pokemon a un porcentaje bajo. Pero no hay mejora de estadísticas, ni un factor que empeore el porcentaje de captura.\n",
    "Tambien se podría destacar el hecho que si bien las pokeballs son un factor importante a la hora de capturar un pokemon, en el juego no siempre se tiene una cantidad razonable de ultraballs. Con esto nos referimos a que si queremos atrapar a Mewtwo nivel 100 con una pokeball nos puede resultar mucho más difícil capturarlo si no tenemos estas ultraballs."
   ]
  }
 ],
 "metadata": {
  "kernelspec": {
   "display_name": "Python 3 (ipykernel)",
   "language": "python",
   "name": "python3"
  },
  "language_info": {
   "codemirror_mode": {
    "name": "ipython",
    "version": 3
   },
   "file_extension": ".py",
   "mimetype": "text/x-python",
   "name": "python",
   "nbconvert_exporter": "python",
   "pygments_lexer": "ipython3",
   "version": "3.10.10"
  }
 },
 "nbformat": 4,
 "nbformat_minor": 2
}
