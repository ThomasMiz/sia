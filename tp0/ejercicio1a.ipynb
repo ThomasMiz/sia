{
 "cells": [
  {
   "cell_type": "code",
   "execution_count": 3,
   "metadata": {},
   "outputs": [],
   "source": [
    "import matplotlib.pyplot as plt\n",
    "import pandas as pd\n",
    "import json\n",
    "from src.pokemon import Pokemon, PokemonFactory, StatusEffect\n",
    "from src.catching import attempt_catch"
   ]
  },
  {
   "cell_type": "code",
   "execution_count": 4,
   "metadata": {},
   "outputs": [
    {
     "data": {
      "text/plain": [
       "['jolteon', 'caterpie', 'snorlax', 'onix', 'mewtwo']"
      ]
     },
     "execution_count": 4,
     "metadata": {},
     "output_type": "execute_result"
    }
   ],
   "source": [
    "available_pokemon = []\n",
    "with open(\"pokemon.json\", \"r\") as file:\n",
    "    pokemon_db = json.load(file)\n",
    "    available_pokemon = [key for key in pokemon_db]\n",
    "\n",
    "available_pokemon"
   ]
  },
  {
   "cell_type": "code",
   "execution_count": 5,
   "metadata": {},
   "outputs": [
    {
     "data": {
      "text/plain": [
       "(100,\n",
       " 100,\n",
       " <StatusEffect.NONE: ('none', 1)>,\n",
       " 1.0,\n",
       " ['pokeball', 'ultraball', 'fastball', 'heavyball'])"
      ]
     },
     "execution_count": 5,
     "metadata": {},
     "output_type": "execute_result"
    }
   ],
   "source": [
    "with open(\"ejercicio1a-config.json\", \"r\") as file:\n",
    "    config = json.load(file)\n",
    "\n",
    "ITERS = config[\"iterations\"]\n",
    "LEVEL = config[\"level\"]\n",
    "STATUS = StatusEffect[config[\"status\"]]\n",
    "HP_PERCENTAGE = config[\"hp_percentage\"]\n",
    "POKEBALLS = config[\"pokeballs\"]\n",
    "(ITERS, LEVEL, STATUS, HP_PERCENTAGE, POKEBALLS)"
   ]
  },
  {
   "cell_type": "code",
   "execution_count": 6,
   "metadata": {},
   "outputs": [],
   "source": [
    "def run_iterations(pokemon_name, pokeball, level, status, hp_percentage, iterations):\n",
    "    factory = PokemonFactory(\"pokemon.json\")\n",
    "    pokemon = factory.create(pokemon_name, level, status, hp_percentage)\n",
    "    success = 0 \n",
    "    for _ in range(iterations):\n",
    "        attempt, rate = attempt_catch(pokemon, pokeball)\n",
    "        if attempt:\n",
    "            success += 1\n",
    "    return [pokemon_name, pokeball, success, iterations]"
   ]
  },
  {
   "cell_type": "code",
   "execution_count": 9,
   "metadata": {},
   "outputs": [
    {
     "data": {
      "text/html": [
       "<style type=\"text/css\">\n",
       "#T_26be6_row0_col1, #T_26be6_row0_col2 {\n",
       "  background-color: #00441b;\n",
       "  color: #f1f1f1;\n",
       "}\n",
       "#T_26be6_row1_col1 {\n",
       "  background-color: #bae3b3;\n",
       "  color: #000000;\n",
       "}\n",
       "#T_26be6_row1_col2 {\n",
       "  background-color: #3ea75a;\n",
       "  color: #f1f1f1;\n",
       "}\n",
       "#T_26be6_row2_col1, #T_26be6_row2_col2 {\n",
       "  background-color: #f7fcf5;\n",
       "  color: #000000;\n",
       "}\n",
       "#T_26be6_row3_col1 {\n",
       "  background-color: #cfecc9;\n",
       "  color: #000000;\n",
       "}\n",
       "#T_26be6_row3_col2 {\n",
       "  background-color: #d0edca;\n",
       "  color: #000000;\n",
       "}\n",
       "#T_26be6_row4_col1 {\n",
       "  background-color: #e7f6e2;\n",
       "  color: #000000;\n",
       "}\n",
       "#T_26be6_row4_col2 {\n",
       "  background-color: #e2f4dd;\n",
       "  color: #000000;\n",
       "}\n",
       "</style>\n",
       "<table id=\"T_26be6\">\n",
       "  <thead>\n",
       "    <tr>\n",
       "      <th class=\"blank level0\" >&nbsp;</th>\n",
       "      <th id=\"T_26be6_level0_col0\" class=\"col_heading level0 col0\" >pokemon_name_</th>\n",
       "      <th id=\"T_26be6_level0_col1\" class=\"col_heading level0 col1\" >accuracy_mean</th>\n",
       "      <th id=\"T_26be6_level0_col2\" class=\"col_heading level0 col2\" >accuracy_std</th>\n",
       "    </tr>\n",
       "  </thead>\n",
       "  <tbody>\n",
       "    <tr>\n",
       "      <th id=\"T_26be6_level0_row0\" class=\"row_heading level0 row0\" >0</th>\n",
       "      <td id=\"T_26be6_row0_col0\" class=\"data row0 col0\" >caterpie</td>\n",
       "      <td id=\"T_26be6_row0_col1\" class=\"data row0 col1\" >0.390000</td>\n",
       "      <td id=\"T_26be6_row0_col2\" class=\"data row0 col2\" >0.173397</td>\n",
       "    </tr>\n",
       "    <tr>\n",
       "      <th id=\"T_26be6_level0_row1\" class=\"row_heading level0 row1\" >1</th>\n",
       "      <td id=\"T_26be6_row1_col0\" class=\"data row1 col0\" >jolteon</td>\n",
       "      <td id=\"T_26be6_row1_col1\" class=\"data row1 col1\" >0.115000</td>\n",
       "      <td id=\"T_26be6_row1_col2\" class=\"data row1 col2\" >0.110905</td>\n",
       "    </tr>\n",
       "    <tr>\n",
       "      <th id=\"T_26be6_level0_row2\" class=\"row_heading level0 row2\" >2</th>\n",
       "      <td id=\"T_26be6_row2_col0\" class=\"data row2 col0\" >mewtwo</td>\n",
       "      <td id=\"T_26be6_row2_col1\" class=\"data row2 col1\" >0.000000</td>\n",
       "      <td id=\"T_26be6_row2_col2\" class=\"data row2 col2\" >0.000000</td>\n",
       "    </tr>\n",
       "    <tr>\n",
       "      <th id=\"T_26be6_level0_row3\" class=\"row_heading level0 row3\" >3</th>\n",
       "      <td id=\"T_26be6_row3_col0\" class=\"data row3 col0\" >onix</td>\n",
       "      <td id=\"T_26be6_row3_col1\" class=\"data row3 col1\" >0.085000</td>\n",
       "      <td id=\"T_26be6_row3_col2\" class=\"data row3 col2\" >0.036968</td>\n",
       "    </tr>\n",
       "    <tr>\n",
       "      <th id=\"T_26be6_level0_row4\" class=\"row_heading level0 row4\" >4</th>\n",
       "      <td id=\"T_26be6_row4_col0\" class=\"data row4 col0\" >snorlax</td>\n",
       "      <td id=\"T_26be6_row4_col1\" class=\"data row4 col1\" >0.045000</td>\n",
       "      <td id=\"T_26be6_row4_col2\" class=\"data row4 col2\" >0.023805</td>\n",
       "    </tr>\n",
       "  </tbody>\n",
       "</table>\n"
      ],
      "text/plain": [
       "<pandas.io.formats.style.Styler at 0x289cfe17fa0>"
      ]
     },
     "execution_count": 9,
     "metadata": {},
     "output_type": "execute_result"
    }
   ],
   "source": [
    "results = []\n",
    "df = pd.DataFrame(columns= [\"pokemon_name\", \"pokeball\", \"success\", \"attemps\"])\n",
    "for pokeball in POKEBALLS:\n",
    "    for pokemon_name in available_pokemon:\n",
    "        new_row = run_iterations(pokemon_name, pokeball, LEVEL, STATUS, HP_PERCENTAGE, ITERS)\n",
    "        df.loc[len(df)] = new_row\n",
    "\n",
    "df['accuracy'] = df.success / df.attemps\n",
    "\n",
    "df = df.groupby(\"pokemon_name\").agg({\"accuracy\": [\"mean\", \"std\"]}).reset_index()\n",
    "df.columns = df.columns.map(\"_\".join)\n",
    "df.style.background_gradient(cmap=\"Greens\")"
   ]
  },
  {
   "cell_type": "code",
   "execution_count": 8,
   "metadata": {},
   "outputs": [
    {
     "data": {
      "image/png": "[encoded data removed]",
      "text/plain": [
       "<Figure size 1000x600 with 1 Axes>"
      ]
     },
     "metadata": {},
     "output_type": "display_data"
    }
   ],
   "source": [
    "# Crear una figura y un eje\n",
    "fig, ax = plt.subplots(figsize=(10, 6))\n",
    "\n",
    "# Crear las barras del gráfico\n",
    "x = df[\"pokemon_name_\"]\n",
    "y = df[\"accuracy_mean\"]\n",
    "error = df[\"accuracy_std\"]\n",
    "ax.bar(x, y, yerr=error, capsize=5)\n",
    "\n",
    "# Configurar el eje x\n",
    "ax.set_xticks(range(len(x)))\n",
    "ax.set_xticklabels(x, rotation=45, ha=\"right\")\n",
    "ax.set_xlabel(\"Pokemon\")\n",
    "\n",
    "# Configurar el eje y\n",
    "ax.set_ylabel(\"Accuracy\")\n",
    "\n",
    "# Añadir título\n",
    "ax.set_title(\"Promedio de capturas de los distintos Pokemons en 100 iteraciones\")\n",
    "\n",
    "# Mostrar el gráfico\n",
    "plt.show()"
   ]
  },
  {
   "cell_type": "code",
   "execution_count": null,
   "metadata": {},
   "outputs": [],
   "source": []
  }
 ],
 "metadata": {
  "kernelspec": {
   "display_name": "Python 3 (ipykernel)",
   "language": "python",
   "name": "python3"
  },
  "language_info": {
   "codemirror_mode": {
    "name": "ipython",
    "version": 3
   },
   "file_extension": ".py",
   "mimetype": "text/x-python",
   "name": "python",
   "nbconvert_exporter": "python",
   "pygments_lexer": "ipython3",
   "version": "3.10.9"
  }
 },
 "nbformat": 4,
 "nbformat_minor": 2
}
